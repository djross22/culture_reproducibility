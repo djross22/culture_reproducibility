{
 "cells": [
  {
   "cell_type": "markdown",
   "metadata": {},
   "source": [
    "Import necessary packages and set up defauls for figure formatting:"
   ]
  },
  {
   "cell_type": "code",
   "execution_count": 1,
   "metadata": {},
   "outputs": [
    {
     "data": {
      "application/javascript": [
       "IPython.notebook.set_autosave_interval(0)"
      ]
     },
     "metadata": {},
     "output_type": "display_data"
    },
    {
     "name": "stdout",
     "output_type": "stream",
     "text": [
      "Autosave disabled\n"
     ]
    }
   ],
   "source": [
    "import glob #filenames and pathnames utility\n",
    "import os   #operating sytem utility\n",
    "import string\n",
    "\n",
    "import warnings\n",
    "\n",
    "import matplotlib.pyplot as plt\n",
    "\n",
    "import numpy as np\n",
    "import pandas as pd\n",
    "\n",
    "import statsmodels.api as sm\n",
    "import statsmodels.formula.api as smf\n",
    "\n",
    "import pickle\n",
    "\n",
    "import seaborn as sns\n",
    "sns.set()\n",
    "\n",
    "%load_ext autoreload\n",
    "%autoreload 2\n",
    "\n",
    "%matplotlib inline\n",
    "\n",
    "%autosave 0\n",
    "\n",
    "# set global default style:\n",
    "sns.set_style(\"white\")\n",
    "sns.set_style(\"ticks\", {'xtick.direction':'in', 'xtick.top':True, 'ytick.direction':'in', 'ytick.right':True, })\n",
    "#sns.set_style({\"axes.labelsize\": 20, \"xtick.labelsize\" : 16, \"ytick.labelsize\" : 16})\n",
    "\n",
    "plt.rcParams['axes.labelsize'] = 20\n",
    "plt.rcParams['xtick.labelsize'] = 16\n",
    "plt.rcParams['ytick.labelsize'] = 16\n",
    "\n",
    "plt.rcParams['legend.fontsize'] = 14\n",
    "plt.rcParams['legend.edgecolor'] = 'k'\n",
    "\n",
    "box_size = 8"
   ]
  },
  {
   "cell_type": "code",
   "execution_count": 2,
   "metadata": {},
   "outputs": [
    {
     "data": {
      "text/plain": [
       "'C:\\\\Users\\\\djross\\\\Documents\\\\Python Scripts\\\\culture_reproducibility'"
      ]
     },
     "execution_count": 2,
     "metadata": {},
     "output_type": "execute_result"
    }
   ],
   "source": [
    "main_dir = os.getcwd()\n",
    "main_dir"
   ]
  },
  {
   "cell_type": "code",
   "execution_count": 3,
   "metadata": {},
   "outputs": [
    {
     "data": {
      "text/plain": [
       "['all_growth_plate_data.csv']"
      ]
     },
     "execution_count": 3,
     "metadata": {},
     "output_type": "execute_result"
    }
   ],
   "source": [
    "glob.glob('*.csv')"
   ]
  },
  {
   "cell_type": "code",
   "execution_count": 4,
   "metadata": {},
   "outputs": [],
   "source": [
    "data = pd.read_csv('all_growth_plate_data.csv', index_col=0)"
   ]
  },
  {
   "cell_type": "code",
   "execution_count": 5,
   "metadata": {},
   "outputs": [
    {
     "data": {
      "text/plain": [
       "(908.0, 150)"
      ]
     },
     "execution_count": 5,
     "metadata": {},
     "output_type": "execute_result"
    }
   ],
   "source": [
    "# Number of dose-reposne curves measured and number of plate experiments\n",
    "len(data)/12, len(np.unique(data.plate_id))"
   ]
  },
  {
   "cell_type": "markdown",
   "metadata": {},
   "source": [
    "Add additional columns to the dataset to use as possible effects in the mixed effecst models:"
   ]
  },
  {
   "cell_type": "code",
   "execution_count": 6,
   "metadata": {},
   "outputs": [],
   "source": [
    "data['year'] = [s[:s.find('-')] for s in data.plate_id]"
   ]
  },
  {
   "cell_type": "code",
   "execution_count": 7,
   "metadata": {},
   "outputs": [
    {
     "name": "stdout",
     "output_type": "stream",
     "text": [
      "2019: 4\n",
      "2020: 62\n",
      "2021: 84\n"
     ]
    }
   ],
   "source": [
    "for x in np.unique([data.year]):\n",
    "    df = data[data.year==x]\n",
    "    print(f'{x}: {len(np.unique(df.plate_id))}')"
   ]
  },
  {
   "cell_type": "code",
   "execution_count": 8,
   "metadata": {},
   "outputs": [],
   "source": [
    "month = [s[:s.find('_')] for s in data.plate_id]\n",
    "data['month'] = [s[:s.rfind('-')] for s in month]"
   ]
  },
  {
   "cell_type": "code",
   "execution_count": 9,
   "metadata": {},
   "outputs": [],
   "source": [
    "month_cat = {m:cat for m, cat in zip(np.unique([data.month]), string.ascii_uppercase)}\n",
    "        \n",
    "data['month_cat'] = [month_cat[x] for x in data.month]\n",
    "# Set the month with the most data as 'A' since smf.mixedlm() orders category labels alphabetically\n",
    "data['month_cat'] = [x if x!='H' else 'a' for x in data['month_cat']]\n",
    "data['month_cat'] = [x if x!='A' else 'h' for x in data['month_cat']]\n",
    "data['month_cat'] = [x.upper() for x in data['month_cat']]"
   ]
  },
  {
   "cell_type": "code",
   "execution_count": 10,
   "metadata": {},
   "outputs": [
    {
     "name": "stdout",
     "output_type": "stream",
     "text": [
      "2019-07, H: 2\n",
      "2019-10, B: 2\n",
      "2020-01, C: 8\n",
      "2020-02, D: 30\n",
      "2020-03, E: 6\n",
      "2020-08, F: 2\n",
      "2020-11, G: 16\n",
      "2021-01, A: 36\n",
      "2021-02, I: 26\n",
      "2021-03, J: 2\n",
      "2021-04, K: 2\n",
      "2021-08, L: 4\n",
      "2021-09, M: 14\n"
     ]
    }
   ],
   "source": [
    "for x in np.unique([data.month]):\n",
    "    df = data[data.month==x]\n",
    "    print(f'{x}, {df.iloc[0].month_cat}: {len(np.unique(df.plate_id))}')"
   ]
  },
  {
   "cell_type": "code",
   "execution_count": 11,
   "metadata": {},
   "outputs": [],
   "source": [
    "def quarter_from_month(m):\n",
    "    year = int(m[:m.find('-')])\n",
    "    month = int(m[m.find('-')+1:])\n",
    "    if month <= 3:\n",
    "        quart = 1\n",
    "    elif month <= 6:\n",
    "        quart = 2\n",
    "    elif month <= 9:\n",
    "        quart = 3\n",
    "    elif month <= 12:\n",
    "        quart = 4\n",
    "    #print(year, month, quart)\n",
    "    return f'{year}-Q{quart}'\n",
    "data['quarter'] = [quarter_from_month(s) for s in data.month]"
   ]
  },
  {
   "cell_type": "code",
   "execution_count": 12,
   "metadata": {},
   "outputs": [],
   "source": [
    "quarter_cat = {m:cat for m, cat in zip(np.unique([data.quarter]), string.ascii_uppercase)}\n",
    "        \n",
    "data['quarter_cat'] = [quarter_cat[x] for x in data.quarter]\n",
    "data['quarter_cat'] = [x if x!='F' else 'a' for x in data['quarter_cat']]\n",
    "data['quarter_cat'] = [x if x!='A' else 'f' for x in data['quarter_cat']]\n",
    "data['quarter_cat'] = [x.upper() for x in data['quarter_cat']]"
   ]
  },
  {
   "cell_type": "code",
   "execution_count": 13,
   "metadata": {},
   "outputs": [
    {
     "name": "stdout",
     "output_type": "stream",
     "text": [
      "2019-Q3, F: 2\n",
      "2019-Q4, B: 2\n",
      "2020-Q1, C: 44\n",
      "2020-Q3, D: 2\n",
      "2020-Q4, E: 16\n",
      "2021-Q1, A: 64\n",
      "2021-Q2, G: 2\n",
      "2021-Q3, H: 18\n"
     ]
    }
   ],
   "source": [
    "for x in np.unique([data.quarter]):\n",
    "    df = data[data.quarter==x]\n",
    "    print(f'{x}, {df.iloc[0].quarter_cat}: {len(np.unique(df.plate_id))}')"
   ]
  },
  {
   "cell_type": "code",
   "execution_count": 14,
   "metadata": {},
   "outputs": [],
   "source": [
    "data['pre_post_covid'] = ['A' if x<'2020-Q3' else 'B' for x in data['quarter']]"
   ]
  },
  {
   "cell_type": "code",
   "execution_count": 15,
   "metadata": {},
   "outputs": [
    {
     "name": "stdout",
     "output_type": "stream",
     "text": [
      "A: 48\n",
      "B: 102\n"
     ]
    }
   ],
   "source": [
    "for x in np.unique([data.pre_post_covid]):\n",
    "    df = data[data.pre_post_covid==x]\n",
    "    print(f'{x}: {len(np.unique(df.plate_id))}')"
   ]
  },
  {
   "cell_type": "code",
   "execution_count": null,
   "metadata": {},
   "outputs": [],
   "source": []
  },
  {
   "cell_type": "markdown",
   "metadata": {},
   "source": [
    "Set up and run the models with the full dataset:"
   ]
  },
  {
   "cell_type": "code",
   "execution_count": 16,
   "metadata": {},
   "outputs": [],
   "source": [
    "model_terms = 'C(well_category) + C(IPTG) + C(pre_post_covid) + plate_1_0 + plate_1_f'"
   ]
  },
  {
   "cell_type": "code",
   "execution_count": 17,
   "metadata": {},
   "outputs": [
    {
     "name": "stderr",
     "output_type": "stream",
     "text": [
      "C:\\Users\\djross\\Miniconda3\\lib\\site-packages\\statsmodels\\regression\\mixed_linear_model.py:2237: ConvergenceWarning: The MLE may be on the boundary of the parameter space.\n",
      "  warnings.warn(msg, ConvergenceWarning)\n"
     ]
    }
   ],
   "source": [
    "md_slope = smf.mixedlm(\n",
    "    f\"max_slope ~ {model_terms}\",\n",
    "    data,\n",
    "    groups=data[\"plate_id\"],\n",
    ")\n",
    "max_slope_model = md_slope.fit(method=[\"lbfgs\"])"
   ]
  },
  {
   "cell_type": "code",
   "execution_count": 18,
   "metadata": {
    "scrolled": true
   },
   "outputs": [
    {
     "data": {
      "text/html": [
       "<table class=\"simpletable\">\n",
       "<tr>\n",
       "       <td>Model:</td>       <td>MixedLM</td> <td>Dependent Variable:</td>  <td>max_slope</td>\n",
       "</tr>\n",
       "<tr>\n",
       "  <td>No. Observations:</td>  <td>10896</td>        <td>Method:</td>          <td>REML</td>   \n",
       "</tr>\n",
       "<tr>\n",
       "     <td>No. Groups:</td>      <td>150</td>         <td>Scale:</td>          <td>0.0008</td>  \n",
       "</tr>\n",
       "<tr>\n",
       "  <td>Min. group size:</td>    <td>72</td>      <td>Log-Likelihood:</td>   <td>23050.5946</td>\n",
       "</tr>\n",
       "<tr>\n",
       "  <td>Max. group size:</td>    <td>96</td>        <td>Converged:</td>          <td>Yes</td>   \n",
       "</tr>\n",
       "<tr>\n",
       "  <td>Mean group size:</td>   <td>72.6</td>            <td></td>                <td></td>     \n",
       "</tr>\n",
       "</table>\n",
       "<table class=\"simpletable\">\n",
       "<tr>\n",
       "                 <td></td>                  <th>Coef.</th> <th>Std.Err.</th>    <th>z</th>    <th>P>|z|</th> <th>[0.025</th> <th>0.975]</th>\n",
       "</tr>\n",
       "<tr>\n",
       "  <th>Intercept</th>                       <td>-0.148</td>   <td>0.019</td>  <td>-7.721</td>  <td>0.000</td> <td>-0.186</td> <td>-0.111</td>\n",
       "</tr>\n",
       "<tr>\n",
       "  <th>C(well_category)[T.corner]</th>      <td>-0.017</td>   <td>0.008</td>  <td>-2.252</td>  <td>0.024</td> <td>-0.032</td> <td>-0.002</td>\n",
       "</tr>\n",
       "<tr>\n",
       "  <th>C(well_category)[T.edge1]</th>       <td>-0.008</td>   <td>0.002</td>  <td>-3.649</td>  <td>0.000</td> <td>-0.012</td> <td>-0.004</td>\n",
       "</tr>\n",
       "<tr>\n",
       "  <th>C(well_category)[T.edge2]</th>       <td>-0.001</td>   <td>0.001</td>  <td>-0.617</td>  <td>0.537</td> <td>-0.004</td>  <td>0.002</td>\n",
       "</tr>\n",
       "<tr>\n",
       "  <th>C(well_category)[T.edge3]</th>       <td>-0.003</td>   <td>0.001</td>  <td>-2.159</td>  <td>0.031</td> <td>-0.006</td> <td>-0.000</td>\n",
       "</tr>\n",
       "<tr>\n",
       "  <th>C(well_category)[T.near_center]</th> <td>-0.003</td>   <td>0.002</td>  <td>-1.795</td>  <td>0.073</td> <td>-0.006</td>  <td>0.000</td>\n",
       "</tr>\n",
       "<tr>\n",
       "  <th>C(IPTG)[T.0.002]</th>                <td>-0.011</td>   <td>0.002</td>  <td>-4.666</td>  <td>0.000</td> <td>-0.016</td> <td>-0.006</td>\n",
       "</tr>\n",
       "<tr>\n",
       "  <th>C(IPTG)[T.0.004]</th>                <td>-0.010</td>   <td>0.002</td>  <td>-4.077</td>  <td>0.000</td> <td>-0.014</td> <td>-0.005</td>\n",
       "</tr>\n",
       "<tr>\n",
       "  <th>C(IPTG)[T.0.008]</th>                <td>-0.006</td>   <td>0.002</td>  <td>-2.574</td>  <td>0.010</td> <td>-0.011</td> <td>-0.001</td>\n",
       "</tr>\n",
       "<tr>\n",
       "  <th>C(IPTG)[T.0.016]</th>                <td>-0.009</td>   <td>0.002</td>  <td>-3.643</td>  <td>0.000</td> <td>-0.013</td> <td>-0.004</td>\n",
       "</tr>\n",
       "<tr>\n",
       "  <th>C(IPTG)[T.0.032]</th>                <td>-0.006</td>   <td>0.002</td>  <td>-2.646</td>  <td>0.008</td> <td>-0.011</td> <td>-0.002</td>\n",
       "</tr>\n",
       "<tr>\n",
       "  <th>C(IPTG)[T.0.064]</th>                <td>-0.006</td>   <td>0.002</td>  <td>-2.539</td>  <td>0.011</td> <td>-0.011</td> <td>-0.001</td>\n",
       "</tr>\n",
       "<tr>\n",
       "  <th>C(IPTG)[T.0.128]</th>                <td>-0.005</td>   <td>0.002</td>  <td>-2.146</td>  <td>0.032</td> <td>-0.009</td> <td>-0.000</td>\n",
       "</tr>\n",
       "<tr>\n",
       "  <th>C(IPTG)[T.0.256]</th>                <td>-0.006</td>   <td>0.002</td>  <td>-2.448</td>  <td>0.014</td> <td>-0.010</td> <td>-0.001</td>\n",
       "</tr>\n",
       "<tr>\n",
       "  <th>C(IPTG)[T.0.512]</th>                <td>-0.003</td>   <td>0.002</td>  <td>-1.454</td>  <td>0.146</td> <td>-0.008</td>  <td>0.001</td>\n",
       "</tr>\n",
       "<tr>\n",
       "  <th>C(IPTG)[T.1.024]</th>                <td>-0.009</td>   <td>0.002</td>  <td>-3.685</td>  <td>0.000</td> <td>-0.013</td> <td>-0.004</td>\n",
       "</tr>\n",
       "<tr>\n",
       "  <th>C(IPTG)[T.2.048]</th>                <td>-0.008</td>   <td>0.001</td>  <td>-5.763</td>  <td>0.000</td> <td>-0.011</td> <td>-0.005</td>\n",
       "</tr>\n",
       "<tr>\n",
       "  <th>C(IPTG)[T.4.096]</th>                <td>-0.012</td>   <td>0.003</td>  <td>-3.884</td>  <td>0.000</td> <td>-0.017</td> <td>-0.006</td>\n",
       "</tr>\n",
       "<tr>\n",
       "  <th>C(IPTG)[T.8.192]</th>                <td>-0.014</td>   <td>0.003</td>  <td>-4.680</td>  <td>0.000</td> <td>-0.020</td> <td>-0.008</td>\n",
       "</tr>\n",
       "<tr>\n",
       "  <th>C(IPTG)[T.16.384]</th>               <td>-0.030</td>   <td>0.003</td>  <td>-10.411</td> <td>0.000</td> <td>-0.035</td> <td>-0.024</td>\n",
       "</tr>\n",
       "<tr>\n",
       "  <th>C(IPTG)[T.32.768]</th>               <td>-0.039</td>   <td>0.003</td>  <td>-12.460</td> <td>0.000</td> <td>-0.045</td> <td>-0.033</td>\n",
       "</tr>\n",
       "<tr>\n",
       "  <th>C(IPTG)[T.65.536]</th>               <td>-0.074</td>   <td>0.003</td>  <td>-24.614</td> <td>0.000</td> <td>-0.080</td> <td>-0.068</td>\n",
       "</tr>\n",
       "<tr>\n",
       "  <th>C(IPTG)[T.131.072]</th>              <td>-0.124</td>   <td>0.003</td>  <td>-42.508</td> <td>0.000</td> <td>-0.129</td> <td>-0.118</td>\n",
       "</tr>\n",
       "<tr>\n",
       "  <th>C(IPTG)[T.262.144]</th>              <td>-0.205</td>   <td>0.009</td>  <td>-24.067</td> <td>0.000</td> <td>-0.222</td> <td>-0.188</td>\n",
       "</tr>\n",
       "<tr>\n",
       "  <th>C(pre_post_covid)[T.B]</th>          <td>-0.030</td>   <td>0.006</td>  <td>-5.102</td>  <td>0.000</td> <td>-0.042</td> <td>-0.019</td>\n",
       "</tr>\n",
       "<tr>\n",
       "  <th>plate_1_0</th>                       <td>-0.108</td>   <td>0.005</td>  <td>-21.363</td> <td>0.000</td> <td>-0.118</td> <td>-0.098</td>\n",
       "</tr>\n",
       "<tr>\n",
       "  <th>plate_1_f</th>                        <td>0.213</td>   <td>0.007</td>  <td>31.164</td>  <td>0.000</td>  <td>0.199</td>  <td>0.226</td>\n",
       "</tr>\n",
       "<tr>\n",
       "  <th>Group Var</th>                        <td>0.001</td>   <td>0.005</td>     <td></td>       <td></td>       <td></td>       <td></td>   \n",
       "</tr>\n",
       "</table>"
      ],
      "text/plain": [
       "<class 'statsmodels.iolib.summary2.Summary'>\n",
       "\"\"\"\n",
       "                   Mixed Linear Model Regression Results\n",
       "===========================================================================\n",
       "Model:                   MixedLM       Dependent Variable:       max_slope \n",
       "No. Observations:        10896         Method:                   REML      \n",
       "No. Groups:              150           Scale:                    0.0008    \n",
       "Min. group size:         72            Log-Likelihood:           23050.5946\n",
       "Max. group size:         96            Converged:                Yes       \n",
       "Mean group size:         72.6                                              \n",
       "---------------------------------------------------------------------------\n",
       "                                Coef.  Std.Err.    z    P>|z| [0.025 0.975]\n",
       "---------------------------------------------------------------------------\n",
       "Intercept                       -0.148    0.019  -7.721 0.000 -0.186 -0.111\n",
       "C(well_category)[T.corner]      -0.017    0.008  -2.252 0.024 -0.032 -0.002\n",
       "C(well_category)[T.edge1]       -0.008    0.002  -3.649 0.000 -0.012 -0.004\n",
       "C(well_category)[T.edge2]       -0.001    0.001  -0.617 0.537 -0.004  0.002\n",
       "C(well_category)[T.edge3]       -0.003    0.001  -2.159 0.031 -0.006 -0.000\n",
       "C(well_category)[T.near_center] -0.003    0.002  -1.795 0.073 -0.006  0.000\n",
       "C(IPTG)[T.0.002]                -0.011    0.002  -4.666 0.000 -0.016 -0.006\n",
       "C(IPTG)[T.0.004]                -0.010    0.002  -4.077 0.000 -0.014 -0.005\n",
       "C(IPTG)[T.0.008]                -0.006    0.002  -2.574 0.010 -0.011 -0.001\n",
       "C(IPTG)[T.0.016]                -0.009    0.002  -3.643 0.000 -0.013 -0.004\n",
       "C(IPTG)[T.0.032]                -0.006    0.002  -2.646 0.008 -0.011 -0.002\n",
       "C(IPTG)[T.0.064]                -0.006    0.002  -2.539 0.011 -0.011 -0.001\n",
       "C(IPTG)[T.0.128]                -0.005    0.002  -2.146 0.032 -0.009 -0.000\n",
       "C(IPTG)[T.0.256]                -0.006    0.002  -2.448 0.014 -0.010 -0.001\n",
       "C(IPTG)[T.0.512]                -0.003    0.002  -1.454 0.146 -0.008  0.001\n",
       "C(IPTG)[T.1.024]                -0.009    0.002  -3.685 0.000 -0.013 -0.004\n",
       "C(IPTG)[T.2.048]                -0.008    0.001  -5.763 0.000 -0.011 -0.005\n",
       "C(IPTG)[T.4.096]                -0.012    0.003  -3.884 0.000 -0.017 -0.006\n",
       "C(IPTG)[T.8.192]                -0.014    0.003  -4.680 0.000 -0.020 -0.008\n",
       "C(IPTG)[T.16.384]               -0.030    0.003 -10.411 0.000 -0.035 -0.024\n",
       "C(IPTG)[T.32.768]               -0.039    0.003 -12.460 0.000 -0.045 -0.033\n",
       "C(IPTG)[T.65.536]               -0.074    0.003 -24.614 0.000 -0.080 -0.068\n",
       "C(IPTG)[T.131.072]              -0.124    0.003 -42.508 0.000 -0.129 -0.118\n",
       "C(IPTG)[T.262.144]              -0.205    0.009 -24.067 0.000 -0.222 -0.188\n",
       "C(pre_post_covid)[T.B]          -0.030    0.006  -5.102 0.000 -0.042 -0.019\n",
       "plate_1_0                       -0.108    0.005 -21.363 0.000 -0.118 -0.098\n",
       "plate_1_f                        0.213    0.007  31.164 0.000  0.199  0.226\n",
       "Group Var                        0.001    0.005                            \n",
       "===========================================================================\n",
       "\n",
       "\"\"\""
      ]
     },
     "execution_count": 18,
     "metadata": {},
     "output_type": "execute_result"
    }
   ],
   "source": [
    "max_slope_model.summary()"
   ]
  },
  {
   "cell_type": "code",
   "execution_count": null,
   "metadata": {},
   "outputs": [],
   "source": []
  },
  {
   "cell_type": "code",
   "execution_count": 19,
   "metadata": {},
   "outputs": [],
   "source": [
    "md_time = smf.mixedlm(\n",
    "    f\"max_slope_time ~ {model_terms}\",\n",
    "    data,\n",
    "    groups=data[\"plate_id\"],\n",
    ")\n",
    "max_slope_time_model = md_time.fit(method=[\"lbfgs\"])"
   ]
  },
  {
   "cell_type": "code",
   "execution_count": 20,
   "metadata": {
    "scrolled": true
   },
   "outputs": [
    {
     "data": {
      "text/html": [
       "<table class=\"simpletable\">\n",
       "<tr>\n",
       "       <td>Model:</td>       <td>MixedLM</td> <td>Dependent Variable:</td> <td>max_slope_time</td>\n",
       "</tr>\n",
       "<tr>\n",
       "  <td>No. Observations:</td>  <td>10896</td>        <td>Method:</td>            <td>REML</td>     \n",
       "</tr>\n",
       "<tr>\n",
       "     <td>No. Groups:</td>      <td>150</td>         <td>Scale:</td>            <td>0.0152</td>    \n",
       "</tr>\n",
       "<tr>\n",
       "  <td>Min. group size:</td>    <td>72</td>      <td>Log-Likelihood:</td>      <td>6881.8837</td>  \n",
       "</tr>\n",
       "<tr>\n",
       "  <td>Max. group size:</td>    <td>96</td>        <td>Converged:</td>            <td>Yes</td>     \n",
       "</tr>\n",
       "<tr>\n",
       "  <td>Mean group size:</td>   <td>72.6</td>            <td></td>                  <td></td>       \n",
       "</tr>\n",
       "</table>\n",
       "<table class=\"simpletable\">\n",
       "<tr>\n",
       "                 <td></td>                  <th>Coef.</th> <th>Std.Err.</th>    <th>z</th>   <th>P>|z|</th> <th>[0.025</th> <th>0.975]</th>\n",
       "</tr>\n",
       "<tr>\n",
       "  <th>Intercept</th>                        <td>3.099</td>   <td>0.087</td>  <td>35.456</td> <td>0.000</td>  <td>2.928</td>  <td>3.270</td>\n",
       "</tr>\n",
       "<tr>\n",
       "  <th>C(well_category)[T.corner]</th>       <td>0.062</td>   <td>0.033</td>   <td>1.863</td> <td>0.062</td> <td>-0.003</td>  <td>0.127</td>\n",
       "</tr>\n",
       "<tr>\n",
       "  <th>C(well_category)[T.edge1]</th>        <td>0.034</td>   <td>0.010</td>   <td>3.478</td> <td>0.001</td>  <td>0.015</td>  <td>0.053</td>\n",
       "</tr>\n",
       "<tr>\n",
       "  <th>C(well_category)[T.edge2]</th>        <td>0.010</td>   <td>0.006</td>   <td>1.680</td> <td>0.093</td> <td>-0.002</td>  <td>0.023</td>\n",
       "</tr>\n",
       "<tr>\n",
       "  <th>C(well_category)[T.edge3]</th>        <td>0.003</td>   <td>0.006</td>   <td>0.514</td> <td>0.607</td> <td>-0.009</td>  <td>0.015</td>\n",
       "</tr>\n",
       "<tr>\n",
       "  <th>C(well_category)[T.near_center]</th> <td>-0.003</td>   <td>0.007</td>  <td>-0.432</td> <td>0.666</td> <td>-0.017</td>  <td>0.011</td>\n",
       "</tr>\n",
       "<tr>\n",
       "  <th>C(IPTG)[T.0.002]</th>                 <td>0.040</td>   <td>0.011</td>   <td>3.777</td> <td>0.000</td>  <td>0.019</td>  <td>0.061</td>\n",
       "</tr>\n",
       "<tr>\n",
       "  <th>C(IPTG)[T.0.004]</th>                 <td>0.026</td>   <td>0.011</td>   <td>2.420</td> <td>0.016</td>  <td>0.005</td>  <td>0.046</td>\n",
       "</tr>\n",
       "<tr>\n",
       "  <th>C(IPTG)[T.0.008]</th>                 <td>0.009</td>   <td>0.011</td>   <td>0.860</td> <td>0.390</td> <td>-0.012</td>  <td>0.030</td>\n",
       "</tr>\n",
       "<tr>\n",
       "  <th>C(IPTG)[T.0.016]</th>                <td>-0.007</td>   <td>0.010</td>  <td>-0.702</td> <td>0.483</td> <td>-0.028</td>  <td>0.013</td>\n",
       "</tr>\n",
       "<tr>\n",
       "  <th>C(IPTG)[T.0.032]</th>                <td>-0.022</td>   <td>0.010</td>  <td>-2.101</td> <td>0.036</td> <td>-0.043</td> <td>-0.001</td>\n",
       "</tr>\n",
       "<tr>\n",
       "  <th>C(IPTG)[T.0.064]</th>                <td>-0.015</td>   <td>0.010</td>  <td>-1.429</td> <td>0.153</td> <td>-0.035</td>  <td>0.006</td>\n",
       "</tr>\n",
       "<tr>\n",
       "  <th>C(IPTG)[T.0.128]</th>                <td>-0.009</td>   <td>0.010</td>  <td>-0.902</td> <td>0.367</td> <td>-0.029</td>  <td>0.011</td>\n",
       "</tr>\n",
       "<tr>\n",
       "  <th>C(IPTG)[T.0.256]</th>                <td>-0.004</td>   <td>0.010</td>  <td>-0.401</td> <td>0.688</td> <td>-0.024</td>  <td>0.016</td>\n",
       "</tr>\n",
       "<tr>\n",
       "  <th>C(IPTG)[T.0.512]</th>                 <td>0.003</td>   <td>0.010</td>   <td>0.290</td> <td>0.772</td> <td>-0.017</td>  <td>0.023</td>\n",
       "</tr>\n",
       "<tr>\n",
       "  <th>C(IPTG)[T.1.024]</th>                 <td>0.010</td>   <td>0.010</td>   <td>0.957</td> <td>0.339</td> <td>-0.010</td>  <td>0.030</td>\n",
       "</tr>\n",
       "<tr>\n",
       "  <th>C(IPTG)[T.2.048]</th>                <td>-0.025</td>   <td>0.006</td>  <td>-4.157</td> <td>0.000</td> <td>-0.037</td> <td>-0.013</td>\n",
       "</tr>\n",
       "<tr>\n",
       "  <th>C(IPTG)[T.4.096]</th>                <td>-0.005</td>   <td>0.013</td>  <td>-0.395</td> <td>0.693</td> <td>-0.031</td>  <td>0.021</td>\n",
       "</tr>\n",
       "<tr>\n",
       "  <th>C(IPTG)[T.8.192]</th>                 <td>0.007</td>   <td>0.013</td>   <td>0.551</td> <td>0.581</td> <td>-0.019</td>  <td>0.033</td>\n",
       "</tr>\n",
       "<tr>\n",
       "  <th>C(IPTG)[T.16.384]</th>               <td>-0.004</td>   <td>0.013</td>  <td>-0.346</td> <td>0.730</td> <td>-0.029</td>  <td>0.020</td>\n",
       "</tr>\n",
       "<tr>\n",
       "  <th>C(IPTG)[T.32.768]</th>                <td>0.032</td>   <td>0.014</td>   <td>2.338</td> <td>0.019</td>  <td>0.005</td>  <td>0.059</td>\n",
       "</tr>\n",
       "<tr>\n",
       "  <th>C(IPTG)[T.65.536]</th>                <td>0.106</td>   <td>0.013</td>   <td>8.053</td> <td>0.000</td>  <td>0.081</td>  <td>0.132</td>\n",
       "</tr>\n",
       "<tr>\n",
       "  <th>C(IPTG)[T.131.072]</th>               <td>0.157</td>   <td>0.013</td>  <td>12.260</td> <td>0.000</td>  <td>0.132</td>  <td>0.182</td>\n",
       "</tr>\n",
       "<tr>\n",
       "  <th>C(IPTG)[T.262.144]</th>              <td>-0.060</td>   <td>0.038</td>  <td>-1.598</td> <td>0.110</td> <td>-0.134</td>  <td>0.014</td>\n",
       "</tr>\n",
       "<tr>\n",
       "  <th>C(pre_post_covid)[T.B]</th>           <td>0.207</td>   <td>0.034</td>   <td>6.006</td> <td>0.000</td>  <td>0.140</td>  <td>0.275</td>\n",
       "</tr>\n",
       "<tr>\n",
       "  <th>plate_1_0</th>                       <td>-0.069</td>   <td>0.022</td>  <td>-3.112</td> <td>0.002</td> <td>-0.113</td> <td>-0.026</td>\n",
       "</tr>\n",
       "<tr>\n",
       "  <th>plate_1_f</th>                       <td>-0.252</td>   <td>0.030</td>  <td>-8.366</td> <td>0.000</td> <td>-0.312</td> <td>-0.193</td>\n",
       "</tr>\n",
       "<tr>\n",
       "  <th>Group Var</th>                        <td>0.039</td>   <td>0.037</td>     <td></td>      <td></td>       <td></td>       <td></td>   \n",
       "</tr>\n",
       "</table>"
      ],
      "text/plain": [
       "<class 'statsmodels.iolib.summary2.Summary'>\n",
       "\"\"\"\n",
       "                  Mixed Linear Model Regression Results\n",
       "==========================================================================\n",
       "Model:                  MixedLM     Dependent Variable:     max_slope_time\n",
       "No. Observations:       10896       Method:                 REML          \n",
       "No. Groups:             150         Scale:                  0.0152        \n",
       "Min. group size:        72          Log-Likelihood:         6881.8837     \n",
       "Max. group size:        96          Converged:              Yes           \n",
       "Mean group size:        72.6                                              \n",
       "--------------------------------------------------------------------------\n",
       "                                Coef.  Std.Err.   z    P>|z| [0.025 0.975]\n",
       "--------------------------------------------------------------------------\n",
       "Intercept                        3.099    0.087 35.456 0.000  2.928  3.270\n",
       "C(well_category)[T.corner]       0.062    0.033  1.863 0.062 -0.003  0.127\n",
       "C(well_category)[T.edge1]        0.034    0.010  3.478 0.001  0.015  0.053\n",
       "C(well_category)[T.edge2]        0.010    0.006  1.680 0.093 -0.002  0.023\n",
       "C(well_category)[T.edge3]        0.003    0.006  0.514 0.607 -0.009  0.015\n",
       "C(well_category)[T.near_center] -0.003    0.007 -0.432 0.666 -0.017  0.011\n",
       "C(IPTG)[T.0.002]                 0.040    0.011  3.777 0.000  0.019  0.061\n",
       "C(IPTG)[T.0.004]                 0.026    0.011  2.420 0.016  0.005  0.046\n",
       "C(IPTG)[T.0.008]                 0.009    0.011  0.860 0.390 -0.012  0.030\n",
       "C(IPTG)[T.0.016]                -0.007    0.010 -0.702 0.483 -0.028  0.013\n",
       "C(IPTG)[T.0.032]                -0.022    0.010 -2.101 0.036 -0.043 -0.001\n",
       "C(IPTG)[T.0.064]                -0.015    0.010 -1.429 0.153 -0.035  0.006\n",
       "C(IPTG)[T.0.128]                -0.009    0.010 -0.902 0.367 -0.029  0.011\n",
       "C(IPTG)[T.0.256]                -0.004    0.010 -0.401 0.688 -0.024  0.016\n",
       "C(IPTG)[T.0.512]                 0.003    0.010  0.290 0.772 -0.017  0.023\n",
       "C(IPTG)[T.1.024]                 0.010    0.010  0.957 0.339 -0.010  0.030\n",
       "C(IPTG)[T.2.048]                -0.025    0.006 -4.157 0.000 -0.037 -0.013\n",
       "C(IPTG)[T.4.096]                -0.005    0.013 -0.395 0.693 -0.031  0.021\n",
       "C(IPTG)[T.8.192]                 0.007    0.013  0.551 0.581 -0.019  0.033\n",
       "C(IPTG)[T.16.384]               -0.004    0.013 -0.346 0.730 -0.029  0.020\n",
       "C(IPTG)[T.32.768]                0.032    0.014  2.338 0.019  0.005  0.059\n",
       "C(IPTG)[T.65.536]                0.106    0.013  8.053 0.000  0.081  0.132\n",
       "C(IPTG)[T.131.072]               0.157    0.013 12.260 0.000  0.132  0.182\n",
       "C(IPTG)[T.262.144]              -0.060    0.038 -1.598 0.110 -0.134  0.014\n",
       "C(pre_post_covid)[T.B]           0.207    0.034  6.006 0.000  0.140  0.275\n",
       "plate_1_0                       -0.069    0.022 -3.112 0.002 -0.113 -0.026\n",
       "plate_1_f                       -0.252    0.030 -8.366 0.000 -0.312 -0.193\n",
       "Group Var                        0.039    0.037                           \n",
       "==========================================================================\n",
       "\n",
       "\"\"\""
      ]
     },
     "execution_count": 20,
     "metadata": {},
     "output_type": "execute_result"
    }
   ],
   "source": [
    "max_slope_time_model.summary()"
   ]
  },
  {
   "cell_type": "code",
   "execution_count": null,
   "metadata": {},
   "outputs": [],
   "source": []
  },
  {
   "cell_type": "markdown",
   "metadata": {},
   "source": [
    "Make dataframes with mean effects and confidence intervals for plotting:"
   ]
  },
  {
   "cell_type": "code",
   "execution_count": 21,
   "metadata": {
    "scrolled": true
   },
   "outputs": [],
   "source": [
    "max_slope_time_frame = max_slope_time_model.conf_int().copy()\n",
    "max_slope_time_frame.rename(columns={0:'q_025', 1:'q_975'}, inplace=True)\n",
    "max_slope_time_frame['mean'] = max_slope_time_model.fe_params\n",
    "df = max_slope_time_model.conf_int(alpha=0.5)\n",
    "max_slope_time_frame['q_25'] = df[0]\n",
    "max_slope_time_frame['q_75'] = df[1]\n",
    "max_slope_time_frame['p_value'] = max_slope_time_model.pvalues\n",
    "#max_slope_time_frame"
   ]
  },
  {
   "cell_type": "code",
   "execution_count": 22,
   "metadata": {
    "scrolled": true
   },
   "outputs": [],
   "source": [
    "max_slope_frame = max_slope_model.conf_int().copy()\n",
    "max_slope_frame.rename(columns={0:'q_025', 1:'q_975'}, inplace=True)\n",
    "max_slope_frame['mean'] = max_slope_model.fe_params\n",
    "df = max_slope_model.conf_int(alpha=0.5)\n",
    "max_slope_frame['q_25'] = df[0]\n",
    "max_slope_frame['q_75'] = df[1]\n",
    "max_slope_frame['p_value'] = max_slope_model.pvalues\n",
    "#max_slope_frame"
   ]
  },
  {
   "cell_type": "code",
   "execution_count": null,
   "metadata": {},
   "outputs": [],
   "source": []
  },
  {
   "cell_type": "markdown",
   "metadata": {},
   "source": [
    "For human interpretable magnitude of effect, multiply max_slope_time efects by 60 to convert from hours to minutes, and divide the max_slope effect by the mean value for the max slope to express effects as percent change:"
   ]
  },
  {
   "cell_type": "code",
   "execution_count": 23,
   "metadata": {
    "scrolled": true
   },
   "outputs": [
    {
     "data": {
      "text/plain": [
       "Intercept                          185.934851\n",
       "C(well_category)[T.corner]           3.726604\n",
       "C(well_category)[T.edge1]            2.048911\n",
       "C(well_category)[T.edge2]            0.626512\n",
       "C(well_category)[T.edge3]            0.191428\n",
       "C(well_category)[T.near_center]     -0.186438\n",
       "C(IPTG)[T.0.002]                     2.399589\n",
       "C(IPTG)[T.0.004]                     1.530319\n",
       "C(IPTG)[T.0.008]                     0.544021\n",
       "C(IPTG)[T.0.016]                    -0.441696\n",
       "C(IPTG)[T.0.032]                    -1.322153\n",
       "C(IPTG)[T.0.064]                    -0.894712\n",
       "C(IPTG)[T.0.128]                    -0.550983\n",
       "C(IPTG)[T.0.256]                    -0.244674\n",
       "C(IPTG)[T.0.512]                     0.177271\n",
       "C(IPTG)[T.1.024]                     0.587499\n",
       "C(IPTG)[T.2.048]                    -1.528803\n",
       "C(IPTG)[T.4.096]                    -0.310662\n",
       "C(IPTG)[T.8.192]                     0.434829\n",
       "C(IPTG)[T.16.384]                   -0.260817\n",
       "C(IPTG)[T.32.768]                    1.936581\n",
       "C(IPTG)[T.65.536]                    6.386463\n",
       "C(IPTG)[T.131.072]                   9.440067\n",
       "C(IPTG)[T.262.144]                  -3.600050\n",
       "C(pre_post_covid)[T.B]              12.429331\n",
       "plate_1_0                           -4.141581\n",
       "plate_1_f                          -15.149560\n",
       "Group Var                                 NaN\n",
       "Name: mean, dtype: float64"
      ]
     },
     "execution_count": 23,
     "metadata": {},
     "output_type": "execute_result"
    }
   ],
   "source": [
    "max_slope_time_frame['mean']*60"
   ]
  },
  {
   "cell_type": "code",
   "execution_count": 24,
   "metadata": {
    "scrolled": true
   },
   "outputs": [
    {
     "name": "stdout",
     "output_type": "stream",
     "text": [
      "0.33345514056256315\n"
     ]
    },
    {
     "data": {
      "text/plain": [
       "Intercept                         -0.444793\n",
       "C(well_category)[T.corner]        -0.051061\n",
       "C(well_category)[T.edge1]         -0.024359\n",
       "C(well_category)[T.edge2]         -0.002609\n",
       "C(well_category)[T.edge3]         -0.009109\n",
       "C(well_category)[T.near_center]   -0.008788\n",
       "C(IPTG)[T.0.002]                  -0.033588\n",
       "C(IPTG)[T.0.004]                  -0.029207\n",
       "C(IPTG)[T.0.008]                  -0.018456\n",
       "C(IPTG)[T.0.016]                  -0.025988\n",
       "C(IPTG)[T.0.032]                  -0.018868\n",
       "C(IPTG)[T.0.064]                  -0.018014\n",
       "C(IPTG)[T.0.128]                  -0.014848\n",
       "C(IPTG)[T.0.256]                  -0.016920\n",
       "C(IPTG)[T.0.512]                  -0.010066\n",
       "C(IPTG)[T.1.024]                  -0.025636\n",
       "C(IPTG)[T.2.048]                  -0.024015\n",
       "C(IPTG)[T.4.096]                  -0.034621\n",
       "C(IPTG)[T.8.192]                  -0.041835\n",
       "C(IPTG)[T.16.384]                 -0.089028\n",
       "C(IPTG)[T.32.768]                 -0.116942\n",
       "C(IPTG)[T.65.536]                 -0.221205\n",
       "C(IPTG)[T.131.072]                -0.370905\n",
       "C(IPTG)[T.262.144]                -0.614543\n",
       "C(pre_post_covid)[T.B]            -0.090251\n",
       "plate_1_0                         -0.324594\n",
       "plate_1_f                          0.638133\n",
       "Group Var                               NaN\n",
       "Name: mean, dtype: float64"
      ]
     },
     "execution_count": 24,
     "metadata": {},
     "output_type": "execute_result"
    }
   ],
   "source": [
    "df = data[data.well_category=='center']\n",
    "df = df[df.IPTG<2]\n",
    "print(df.max_slope.mean())\n",
    "max_slope_frame['mean']/df.max_slope.mean()"
   ]
  },
  {
   "cell_type": "code",
   "execution_count": null,
   "metadata": {},
   "outputs": [],
   "source": []
  },
  {
   "cell_type": "markdown",
   "metadata": {},
   "source": [
    "Figure S2 shows well position effects:"
   ]
  },
  {
   "cell_type": "code",
   "execution_count": 25,
   "metadata": {},
   "outputs": [
    {
     "data": {
      "image/png": "[encoded data removed]",
      "text/plain": [
       "<Figure size 432x576 with 2 Axes>"
      ]
     },
     "metadata": {},
     "output_type": "display_data"
    }
   ],
   "source": [
    "plt.rcParams[\"figure.figsize\"] = [6, 8]\n",
    "fig, axs = plt.subplots(2, 1)\n",
    "\n",
    "for ax, df, y_lab in zip(axs, [max_slope_frame, max_slope_time_frame], ['Max Slope (OD/hr)', 'Max Slope Time (hr)']):\n",
    "    df = df[['well_category' in s for s in df.index]]\n",
    "    x_lab = [s[s.find('[T.')+3: s.rfind(']')] for s in df.index]\n",
    "    x_arr = np.array([i for i in range(len(x_lab))])\n",
    "    y_arr = df['mean']\n",
    "    y_err = [df['mean']-df.q_025, df.q_975-df['mean']]\n",
    "    ax.errorbar(x_arr, y_arr, y_err, fmt='o', color='k', ms=14, fillstyle='none');\n",
    "    ax.set_ylabel(y_lab)\n",
    "axs[0].set_xticklabels([]);\n",
    "axs[1].set_xticks(x_arr);\n",
    "x_lab = [s.replace('_', ' ') for s in x_lab]\n",
    "axs[1].set_xticklabels(x_lab, rotation=-45);\n",
    "\n",
    "shift = 0.04\n",
    "box = axs[1].get_position()\n",
    "box.y0 = box.y0 + shift\n",
    "box.y1 = box.y1 + shift\n",
    "axs[1].set_position(box)\n",
    "\n",
    "fig.savefig(\"Fig. S2.png\", bbox_inches=\"tight\")"
   ]
  },
  {
   "cell_type": "code",
   "execution_count": null,
   "metadata": {},
   "outputs": [],
   "source": []
  },
  {
   "cell_type": "code",
   "execution_count": null,
   "metadata": {},
   "outputs": [],
   "source": []
  },
  {
   "cell_type": "markdown",
   "metadata": {},
   "source": [
    "Figure S3 shows the IPTG effects:"
   ]
  },
  {
   "cell_type": "code",
   "execution_count": 26,
   "metadata": {},
   "outputs": [
    {
     "data": {
      "image/png": "[encoded data removed]",
      "text/plain": [
       "<Figure size 864x576 with 2 Axes>"
      ]
     },
     "metadata": {},
     "output_type": "display_data"
    }
   ],
   "source": [
    "plt.rcParams[\"figure.figsize\"] = [12, 8]\n",
    "fig, axs = plt.subplots(2, 1)\n",
    "\n",
    "for ax, df, y_lab in zip(axs, [max_slope_frame, max_slope_time_frame], ['Max Slope (OD/hr)', 'Max Slope Time (hr)']):\n",
    "    df = df[['IPTG' in s for s in df.index]]\n",
    "    x = [float(s[s.find('[T.')+3: s.rfind(']')]) for s in df.index]\n",
    "    y = df['mean'] #/factor\n",
    "    yerr = np.array([df['mean']-df.q_025, df.q_975-df['mean']]) #/factor\n",
    "    ax.errorbar(x, y, yerr, fmt='o', color='k', ms=10, fillstyle='none');\n",
    "    ax.set_xscale('log')\n",
    "    ax.set_ylabel(y_lab)\n",
    "axs[1].set_xlabel('[IPTG (mmol/L)]');\n",
    "axs[0].set_xticklabels([]);\n",
    "\n",
    "shift = 0.04\n",
    "box = axs[1].get_position()\n",
    "box.y0 = box.y0 + shift\n",
    "box.y1 = box.y1 + shift\n",
    "axs[1].set_position(box)\n",
    "\n",
    "fig.savefig(\"Fig. S3.png\", bbox_inches=\"tight\")"
   ]
  },
  {
   "cell_type": "code",
   "execution_count": null,
   "metadata": {},
   "outputs": [],
   "source": []
  },
  {
   "cell_type": "code",
   "execution_count": 27,
   "metadata": {},
   "outputs": [
    {
     "data": {
      "text/html": [
       "<div>\n",
       "<style scoped>\n",
       "    .dataframe tbody tr th:only-of-type {\n",
       "        vertical-align: middle;\n",
       "    }\n",
       "\n",
       "    .dataframe tbody tr th {\n",
       "        vertical-align: top;\n",
       "    }\n",
       "\n",
       "    .dataframe thead th {\n",
       "        text-align: right;\n",
       "    }\n",
       "</style>\n",
       "<table border=\"1\" class=\"dataframe\">\n",
       "  <thead>\n",
       "    <tr style=\"text-align: right;\">\n",
       "      <th></th>\n",
       "      <th>q_025</th>\n",
       "      <th>q_975</th>\n",
       "      <th>mean</th>\n",
       "      <th>q_25</th>\n",
       "      <th>q_75</th>\n",
       "      <th>p_value</th>\n",
       "    </tr>\n",
       "  </thead>\n",
       "  <tbody>\n",
       "    <tr>\n",
       "      <th>C(pre_post_covid)[T.B]</th>\n",
       "      <td>-0.041657</td>\n",
       "      <td>-0.018533</td>\n",
       "      <td>-0.030095</td>\n",
       "      <td>-0.034074</td>\n",
       "      <td>-0.026116</td>\n",
       "      <td>3.366677e-07</td>\n",
       "    </tr>\n",
       "  </tbody>\n",
       "</table>\n",
       "</div>"
      ],
      "text/plain": [
       "                           q_025     q_975      mean      q_25      q_75  \\\n",
       "C(pre_post_covid)[T.B] -0.041657 -0.018533 -0.030095 -0.034074 -0.026116   \n",
       "\n",
       "                             p_value  \n",
       "C(pre_post_covid)[T.B]  3.366677e-07  "
      ]
     },
     "metadata": {},
     "output_type": "display_data"
    },
    {
     "data": {
      "text/html": [
       "<div>\n",
       "<style scoped>\n",
       "    .dataframe tbody tr th:only-of-type {\n",
       "        vertical-align: middle;\n",
       "    }\n",
       "\n",
       "    .dataframe tbody tr th {\n",
       "        vertical-align: top;\n",
       "    }\n",
       "\n",
       "    .dataframe thead th {\n",
       "        text-align: right;\n",
       "    }\n",
       "</style>\n",
       "<table border=\"1\" class=\"dataframe\">\n",
       "  <thead>\n",
       "    <tr style=\"text-align: right;\">\n",
       "      <th></th>\n",
       "      <th>q_025</th>\n",
       "      <th>q_975</th>\n",
       "      <th>mean</th>\n",
       "      <th>q_25</th>\n",
       "      <th>q_75</th>\n",
       "      <th>p_value</th>\n",
       "    </tr>\n",
       "  </thead>\n",
       "  <tbody>\n",
       "    <tr>\n",
       "      <th>C(pre_post_covid)[T.B]</th>\n",
       "      <td>0.139557</td>\n",
       "      <td>0.274754</td>\n",
       "      <td>0.207156</td>\n",
       "      <td>0.183893</td>\n",
       "      <td>0.230418</td>\n",
       "      <td>1.897637e-09</td>\n",
       "    </tr>\n",
       "  </tbody>\n",
       "</table>\n",
       "</div>"
      ],
      "text/plain": [
       "                           q_025     q_975      mean      q_25      q_75  \\\n",
       "C(pre_post_covid)[T.B]  0.139557  0.274754  0.207156  0.183893  0.230418   \n",
       "\n",
       "                             p_value  \n",
       "C(pre_post_covid)[T.B]  1.897637e-09  "
      ]
     },
     "metadata": {},
     "output_type": "display_data"
    }
   ],
   "source": [
    "# What is pre_post_covid effect?:\n",
    "\n",
    "for df in [max_slope_frame, max_slope_time_frame]:\n",
    "    df = df[['pre_post_covid' in s for s in df.index]]\n",
    "    display(df)"
   ]
  },
  {
   "cell_type": "code",
   "execution_count": null,
   "metadata": {},
   "outputs": [],
   "source": []
  },
  {
   "cell_type": "markdown",
   "metadata": {},
   "source": [
    "Look at rondom effects as estimates of reproducibility:"
   ]
  },
  {
   "cell_type": "code",
   "execution_count": 28,
   "metadata": {},
   "outputs": [],
   "source": [
    "rand_effects_slope = np.array([x.iloc[0] for x in max_slope_model.random_effects.values()])\n",
    "rand_effects_time = np.array([x.iloc[0] for x in max_slope_time_model.random_effects.values()])"
   ]
  },
  {
   "cell_type": "code",
   "execution_count": 29,
   "metadata": {},
   "outputs": [
    {
     "data": {
      "text/plain": [
       "(0.033082379739861396, 0.19437360548943608)"
      ]
     },
     "execution_count": 29,
     "metadata": {},
     "output_type": "execute_result"
    }
   ],
   "source": [
    "np.std(rand_effects_slope), np.std(rand_effects_time)"
   ]
  },
  {
   "cell_type": "code",
   "execution_count": 30,
   "metadata": {},
   "outputs": [
    {
     "data": {
      "text/plain": [
       "(0.10417353666314781, 11.662416329366165)"
      ]
     },
     "execution_count": 30,
     "metadata": {},
     "output_type": "execute_result"
    }
   ],
   "source": [
    "np.std(rand_effects_slope)/np.mean(data.max_slope.mean()), np.std(rand_effects_time)*60"
   ]
  },
  {
   "cell_type": "code",
   "execution_count": null,
   "metadata": {},
   "outputs": [],
   "source": []
  },
  {
   "cell_type": "markdown",
   "metadata": {},
   "source": [
    "Plot histograms of random effects:"
   ]
  },
  {
   "cell_type": "code",
   "execution_count": 31,
   "metadata": {},
   "outputs": [
    {
     "data": {
      "image/png": "[encoded data removed]",
      "text/plain": [
       "<Figure size 432x576 with 2 Axes>"
      ]
     },
     "metadata": {},
     "output_type": "display_data"
    }
   ],
   "source": [
    "plt.rcParams[\"figure.figsize\"] = [6, 8]\n",
    "fig, axs = plt.subplots(2, 1)\n",
    "\n",
    "for ax, x in zip(axs, [rand_effects_slope, rand_effects_time]):\n",
    "    ax.hist(x, bins=20);"
   ]
  },
  {
   "cell_type": "code",
   "execution_count": null,
   "metadata": {},
   "outputs": [],
   "source": []
  },
  {
   "cell_type": "markdown",
   "metadata": {},
   "source": [
    "Redo the analysis with just plates from recent measurements in August, September 2021:"
   ]
  },
  {
   "cell_type": "code",
   "execution_count": 32,
   "metadata": {},
   "outputs": [
    {
     "data": {
      "text/plain": [
       "18"
      ]
     },
     "execution_count": 32,
     "metadata": {},
     "output_type": "execute_result"
    }
   ],
   "source": [
    "df = data[data.year=='2021']\n",
    "x = np.array([int(s[s.find('-')+1:]) for s in df.month])\n",
    "recent_data = df[x>6]\n",
    "len(np.unique(recent_data.plate_id))"
   ]
  },
  {
   "cell_type": "code",
   "execution_count": 33,
   "metadata": {},
   "outputs": [],
   "source": [
    "model_terms_recent = 'C(well_category) + plate_1_0 + plate_1_f'"
   ]
  },
  {
   "cell_type": "code",
   "execution_count": 34,
   "metadata": {},
   "outputs": [
    {
     "name": "stderr",
     "output_type": "stream",
     "text": [
      "C:\\Users\\djross\\Miniconda3\\lib\\site-packages\\statsmodels\\regression\\mixed_linear_model.py:2237: ConvergenceWarning: The MLE may be on the boundary of the parameter space.\n",
      "  warnings.warn(msg, ConvergenceWarning)\n"
     ]
    }
   ],
   "source": [
    "md_slope = smf.mixedlm(\n",
    "    f\"max_slope ~ {model_terms_recent}\",\n",
    "    recent_data,\n",
    "    groups=recent_data[\"plate_id\"],\n",
    ")\n",
    "max_slope_model = md_slope.fit(method=[\"lbfgs\"])"
   ]
  },
  {
   "cell_type": "code",
   "execution_count": 35,
   "metadata": {
    "scrolled": true
   },
   "outputs": [
    {
     "data": {
      "text/html": [
       "<table class=\"simpletable\">\n",
       "<tr>\n",
       "       <td>Model:</td>       <td>MixedLM</td> <td>Dependent Variable:</td> <td>max_slope</td>\n",
       "</tr>\n",
       "<tr>\n",
       "  <td>No. Observations:</td>  <td>1296</td>         <td>Method:</td>         <td>REML</td>   \n",
       "</tr>\n",
       "<tr>\n",
       "     <td>No. Groups:</td>      <td>18</td>          <td>Scale:</td>         <td>0.0004</td>  \n",
       "</tr>\n",
       "<tr>\n",
       "  <td>Min. group size:</td>    <td>72</td>      <td>Log-Likelihood:</td>   <td>3142.5254</td>\n",
       "</tr>\n",
       "<tr>\n",
       "  <td>Max. group size:</td>    <td>72</td>        <td>Converged:</td>         <td>Yes</td>   \n",
       "</tr>\n",
       "<tr>\n",
       "  <td>Mean group size:</td>   <td>72.0</td>            <td></td>               <td></td>     \n",
       "</tr>\n",
       "</table>\n",
       "<table class=\"simpletable\">\n",
       "<tr>\n",
       "                 <td></td>                  <th>Coef.</th> <th>Std.Err.</th>    <th>z</th>   <th>P>|z|</th> <th>[0.025</th> <th>0.975]</th>\n",
       "</tr>\n",
       "<tr>\n",
       "  <th>Intercept</th>                       <td>-0.076</td>   <td>0.049</td>  <td>-1.557</td> <td>0.119</td> <td>-0.171</td>  <td>0.020</td>\n",
       "</tr>\n",
       "<tr>\n",
       "  <th>C(well_category)[T.edge1]</th>       <td>-0.006</td>   <td>0.003</td>  <td>-2.150</td> <td>0.032</td> <td>-0.012</td> <td>-0.001</td>\n",
       "</tr>\n",
       "<tr>\n",
       "  <th>C(well_category)[T.edge2]</th>        <td>0.002</td>   <td>0.003</td>   <td>0.851</td> <td>0.395</td> <td>-0.003</td>  <td>0.007</td>\n",
       "</tr>\n",
       "<tr>\n",
       "  <th>C(well_category)[T.edge3]</th>        <td>0.000</td>   <td>0.003</td>   <td>0.133</td> <td>0.894</td> <td>-0.005</td>  <td>0.006</td>\n",
       "</tr>\n",
       "<tr>\n",
       "  <th>C(well_category)[T.near_center]</th> <td>-0.002</td>   <td>0.003</td>  <td>-0.664</td> <td>0.507</td> <td>-0.008</td>  <td>0.004</td>\n",
       "</tr>\n",
       "<tr>\n",
       "  <th>plate_1_0</th>                       <td>-0.023</td>   <td>0.012</td>  <td>-1.832</td> <td>0.067</td> <td>-0.047</td>  <td>0.002</td>\n",
       "</tr>\n",
       "<tr>\n",
       "  <th>plate_1_f</th>                        <td>0.141</td>   <td>0.019</td>   <td>7.568</td> <td>0.000</td>  <td>0.104</td>  <td>0.177</td>\n",
       "</tr>\n",
       "<tr>\n",
       "  <th>Group Var</th>                        <td>0.000</td>   <td>0.007</td>     <td></td>      <td></td>       <td></td>       <td></td>   \n",
       "</tr>\n",
       "</table>"
      ],
      "text/plain": [
       "<class 'statsmodels.iolib.summary2.Summary'>\n",
       "\"\"\"\n",
       "                  Mixed Linear Model Regression Results\n",
       "==========================================================================\n",
       "Model:                   MixedLM       Dependent Variable:       max_slope\n",
       "No. Observations:        1296          Method:                   REML     \n",
       "No. Groups:              18            Scale:                    0.0004   \n",
       "Min. group size:         72            Log-Likelihood:           3142.5254\n",
       "Max. group size:         72            Converged:                Yes      \n",
       "Mean group size:         72.0                                             \n",
       "--------------------------------------------------------------------------\n",
       "                                Coef.  Std.Err.   z    P>|z| [0.025 0.975]\n",
       "--------------------------------------------------------------------------\n",
       "Intercept                       -0.076    0.049 -1.557 0.119 -0.171  0.020\n",
       "C(well_category)[T.edge1]       -0.006    0.003 -2.150 0.032 -0.012 -0.001\n",
       "C(well_category)[T.edge2]        0.002    0.003  0.851 0.395 -0.003  0.007\n",
       "C(well_category)[T.edge3]        0.000    0.003  0.133 0.894 -0.005  0.006\n",
       "C(well_category)[T.near_center] -0.002    0.003 -0.664 0.507 -0.008  0.004\n",
       "plate_1_0                       -0.023    0.012 -1.832 0.067 -0.047  0.002\n",
       "plate_1_f                        0.141    0.019  7.568 0.000  0.104  0.177\n",
       "Group Var                        0.000    0.007                           \n",
       "==========================================================================\n",
       "\n",
       "\"\"\""
      ]
     },
     "execution_count": 35,
     "metadata": {},
     "output_type": "execute_result"
    }
   ],
   "source": [
    "max_slope_model.summary()"
   ]
  },
  {
   "cell_type": "code",
   "execution_count": 36,
   "metadata": {},
   "outputs": [],
   "source": [
    "md_time = smf.mixedlm(\n",
    "    f\"max_slope_time ~ {model_terms_recent}\",\n",
    "    recent_data,\n",
    "    groups=recent_data[\"plate_id\"],\n",
    ")\n",
    "max_slope_time_model = md_time.fit(method=[\"lbfgs\"])"
   ]
  },
  {
   "cell_type": "code",
   "execution_count": 37,
   "metadata": {
    "scrolled": true
   },
   "outputs": [
    {
     "data": {
      "text/html": [
       "<table class=\"simpletable\">\n",
       "<tr>\n",
       "       <td>Model:</td>       <td>MixedLM</td> <td>Dependent Variable:</td> <td>max_slope_time</td>\n",
       "</tr>\n",
       "<tr>\n",
       "  <td>No. Observations:</td>  <td>1296</td>         <td>Method:</td>            <td>REML</td>     \n",
       "</tr>\n",
       "<tr>\n",
       "     <td>No. Groups:</td>      <td>18</td>          <td>Scale:</td>            <td>0.0071</td>    \n",
       "</tr>\n",
       "<tr>\n",
       "  <td>Min. group size:</td>    <td>72</td>      <td>Log-Likelihood:</td>      <td>1304.1004</td>  \n",
       "</tr>\n",
       "<tr>\n",
       "  <td>Max. group size:</td>    <td>72</td>        <td>Converged:</td>            <td>Yes</td>     \n",
       "</tr>\n",
       "<tr>\n",
       "  <td>Mean group size:</td>   <td>72.0</td>            <td></td>                  <td></td>       \n",
       "</tr>\n",
       "</table>\n",
       "<table class=\"simpletable\">\n",
       "<tr>\n",
       "                 <td></td>                  <th>Coef.</th> <th>Std.Err.</th>    <th>z</th>   <th>P>|z|</th> <th>[0.025</th> <th>0.975]</th>\n",
       "</tr>\n",
       "<tr>\n",
       "  <th>Intercept</th>                        <td>3.179</td>   <td>0.204</td>  <td>15.578</td> <td>0.000</td>  <td>2.779</td>  <td>3.579</td>\n",
       "</tr>\n",
       "<tr>\n",
       "  <th>C(well_category)[T.edge1]</th>        <td>0.073</td>   <td>0.012</td>   <td>6.276</td> <td>0.000</td>  <td>0.050</td>  <td>0.096</td>\n",
       "</tr>\n",
       "<tr>\n",
       "  <th>C(well_category)[T.edge2]</th>        <td>0.058</td>   <td>0.011</td>   <td>5.382</td> <td>0.000</td>  <td>0.037</td>  <td>0.079</td>\n",
       "</tr>\n",
       "<tr>\n",
       "  <th>C(well_category)[T.edge3]</th>        <td>0.027</td>   <td>0.011</td>   <td>2.481</td> <td>0.013</td>  <td>0.006</td>  <td>0.048</td>\n",
       "</tr>\n",
       "<tr>\n",
       "  <th>C(well_category)[T.near_center]</th>  <td>0.010</td>   <td>0.012</td>   <td>0.831</td> <td>0.406</td> <td>-0.014</td>  <td>0.034</td>\n",
       "</tr>\n",
       "<tr>\n",
       "  <th>plate_1_0</th>                       <td>-0.116</td>   <td>0.051</td>  <td>-2.263</td> <td>0.024</td> <td>-0.216</td> <td>-0.016</td>\n",
       "</tr>\n",
       "<tr>\n",
       "  <th>plate_1_f</th>                       <td>-0.265</td>   <td>0.077</td>  <td>-3.429</td> <td>0.001</td> <td>-0.416</td> <td>-0.113</td>\n",
       "</tr>\n",
       "<tr>\n",
       "  <th>Group Var</th>                        <td>0.020</td>   <td>0.081</td>     <td></td>      <td></td>       <td></td>       <td></td>   \n",
       "</tr>\n",
       "</table>"
      ],
      "text/plain": [
       "<class 'statsmodels.iolib.summary2.Summary'>\n",
       "\"\"\"\n",
       "                  Mixed Linear Model Regression Results\n",
       "==========================================================================\n",
       "Model:                  MixedLM     Dependent Variable:     max_slope_time\n",
       "No. Observations:       1296        Method:                 REML          \n",
       "No. Groups:             18          Scale:                  0.0071        \n",
       "Min. group size:        72          Log-Likelihood:         1304.1004     \n",
       "Max. group size:        72          Converged:              Yes           \n",
       "Mean group size:        72.0                                              \n",
       "--------------------------------------------------------------------------\n",
       "                                Coef.  Std.Err.   z    P>|z| [0.025 0.975]\n",
       "--------------------------------------------------------------------------\n",
       "Intercept                        3.179    0.204 15.578 0.000  2.779  3.579\n",
       "C(well_category)[T.edge1]        0.073    0.012  6.276 0.000  0.050  0.096\n",
       "C(well_category)[T.edge2]        0.058    0.011  5.382 0.000  0.037  0.079\n",
       "C(well_category)[T.edge3]        0.027    0.011  2.481 0.013  0.006  0.048\n",
       "C(well_category)[T.near_center]  0.010    0.012  0.831 0.406 -0.014  0.034\n",
       "plate_1_0                       -0.116    0.051 -2.263 0.024 -0.216 -0.016\n",
       "plate_1_f                       -0.265    0.077 -3.429 0.001 -0.416 -0.113\n",
       "Group Var                        0.020    0.081                           \n",
       "==========================================================================\n",
       "\n",
       "\"\"\""
      ]
     },
     "execution_count": 37,
     "metadata": {},
     "output_type": "execute_result"
    }
   ],
   "source": [
    "max_slope_time_model.summary()"
   ]
  },
  {
   "cell_type": "code",
   "execution_count": 38,
   "metadata": {
    "scrolled": true
   },
   "outputs": [],
   "source": [
    "max_slope_time_frame = max_slope_time_model.conf_int().copy()\n",
    "max_slope_time_frame.rename(columns={0:'q_025', 1:'q_975'}, inplace=True)\n",
    "max_slope_time_frame['mean'] = max_slope_time_model.fe_params\n",
    "df = max_slope_time_model.conf_int(alpha=0.5)\n",
    "max_slope_time_frame['q_25'] = df[0]\n",
    "max_slope_time_frame['q_75'] = df[1]\n",
    "#max_slope_time_frame"
   ]
  },
  {
   "cell_type": "code",
   "execution_count": null,
   "metadata": {
    "scrolled": true
   },
   "outputs": [],
   "source": []
  },
  {
   "cell_type": "code",
   "execution_count": 39,
   "metadata": {
    "scrolled": true
   },
   "outputs": [],
   "source": [
    "max_slope_frame = max_slope_model.conf_int().copy()\n",
    "max_slope_frame.rename(columns={0:'q_025', 1:'q_975'}, inplace=True)\n",
    "max_slope_frame['mean'] = max_slope_model.fe_params\n",
    "df = max_slope_model.conf_int(alpha=0.5)\n",
    "max_slope_frame['q_25'] = df[0]\n",
    "max_slope_frame['q_75'] = df[1]\n",
    "#max_slope_frame"
   ]
  },
  {
   "cell_type": "code",
   "execution_count": null,
   "metadata": {},
   "outputs": [],
   "source": []
  },
  {
   "cell_type": "markdown",
   "metadata": {},
   "source": [
    "Figure S4 shows well position effects for the recent data:"
   ]
  },
  {
   "cell_type": "code",
   "execution_count": 40,
   "metadata": {
    "scrolled": false
   },
   "outputs": [
    {
     "data": {
      "image/png": "[encoded data removed]",
      "text/plain": [
       "<Figure size 432x576 with 2 Axes>"
      ]
     },
     "metadata": {},
     "output_type": "display_data"
    }
   ],
   "source": [
    "plt.rcParams[\"figure.figsize\"] = [6, 8]\n",
    "fig, axs = plt.subplots(2, 1)\n",
    "\n",
    "for ax, df, y_lab in zip(axs, [max_slope_frame, max_slope_time_frame], ['Max Slope (OD/hr)', 'Max Slope Time (hr)']):\n",
    "    df = df[['well_category' in s for s in df.index]]\n",
    "    x_lab = [s[s.find('[T.')+3: s.rfind(']')] for s in df.index]\n",
    "    x_arr = np.array([i for i in range(len(x_lab))])\n",
    "    y_arr = df['mean']\n",
    "    y_err = [df['mean']-df.q_025, df.q_975-df['mean']]\n",
    "    ax.errorbar(x_arr, y_arr, y_err, fmt='o', color='k', ms=14, fillstyle='none');\n",
    "    ax.set_ylabel(y_lab)\n",
    "axs[0].set_xticklabels([]);\n",
    "axs[1].set_xticks(x_arr);\n",
    "x_lab = [s.replace('_', ' ') for s in x_lab]\n",
    "axs[1].set_xticklabels(x_lab, rotation=-45);\n",
    "\n",
    "shift = 0.04\n",
    "box = axs[1].get_position()\n",
    "box.y0 = box.y0 + shift\n",
    "box.y1 = box.y1 + shift\n",
    "axs[1].set_position(box)\n",
    "\n",
    "fig.savefig(\"Fig. S4.png\", bbox_inches=\"tight\")"
   ]
  },
  {
   "cell_type": "code",
   "execution_count": null,
   "metadata": {},
   "outputs": [],
   "source": []
  },
  {
   "cell_type": "markdown",
   "metadata": {},
   "source": [
    "Random effects for model with recent dataset:"
   ]
  },
  {
   "cell_type": "code",
   "execution_count": 41,
   "metadata": {},
   "outputs": [],
   "source": [
    "rand_effects_slope = np.array([x.iloc[0] for x in max_slope_model.random_effects.values()])\n",
    "rand_effects_time = np.array([x.iloc[0] for x in max_slope_time_model.random_effects.values()])"
   ]
  },
  {
   "cell_type": "code",
   "execution_count": 42,
   "metadata": {},
   "outputs": [
    {
     "data": {
      "text/plain": [
       "(0.019808656564075044, 0.13571385389505072)"
      ]
     },
     "execution_count": 42,
     "metadata": {},
     "output_type": "execute_result"
    }
   ],
   "source": [
    "np.std(rand_effects_slope), np.std(rand_effects_time)"
   ]
  },
  {
   "cell_type": "code",
   "execution_count": 43,
   "metadata": {},
   "outputs": [
    {
     "data": {
      "text/plain": [
       "(0.0578547232572116, 8.142831233703044)"
      ]
     },
     "execution_count": 43,
     "metadata": {},
     "output_type": "execute_result"
    }
   ],
   "source": [
    "np.std(rand_effects_slope)/np.mean(recent_data.max_slope), 60*np.std(rand_effects_time)"
   ]
  },
  {
   "cell_type": "code",
   "execution_count": null,
   "metadata": {},
   "outputs": [],
   "source": []
  },
  {
   "cell_type": "markdown",
   "metadata": {},
   "source": [
    "Plot histograms of random effects:"
   ]
  },
  {
   "cell_type": "code",
   "execution_count": 44,
   "metadata": {},
   "outputs": [
    {
     "data": {
      "image/png": "[encoded data removed]",
      "text/plain": [
       "<Figure size 432x576 with 2 Axes>"
      ]
     },
     "metadata": {},
     "output_type": "display_data"
    }
   ],
   "source": [
    "plt.rcParams[\"figure.figsize\"] = [6, 8]\n",
    "fig, axs = plt.subplots(2, 1)\n",
    "\n",
    "for ax, x in zip(axs, [rand_effects_slope, rand_effects_time]):\n",
    "    ax.hist(x, bins=20);"
   ]
  },
  {
   "cell_type": "code",
   "execution_count": null,
   "metadata": {},
   "outputs": [],
   "source": []
  },
  {
   "cell_type": "markdown",
   "metadata": {},
   "source": [
    "Re-analyze with radom sub-samples and look at p-values analysis with recent data:"
   ]
  },
  {
   "cell_type": "code",
   "execution_count": 45,
   "metadata": {},
   "outputs": [
    {
     "data": {
      "text/plain": [
       "18"
      ]
     },
     "execution_count": 45,
     "metadata": {},
     "output_type": "execute_result"
    }
   ],
   "source": [
    "recent_len = len(np.unique(recent_data.plate_id))\n",
    "recent_len"
   ]
  },
  {
   "cell_type": "code",
   "execution_count": 46,
   "metadata": {},
   "outputs": [
    {
     "data": {
      "text/plain": [
       "[1, 2, 3, 4, 6, 8, 10, 12, 16]"
      ]
     },
     "execution_count": 46,
     "metadata": {},
     "output_type": "execute_result"
    }
   ],
   "source": [
    "num_samples = [1, 2, 3, 4, 6, 8, 10, 12, 16]\n",
    "num_samples"
   ]
  },
  {
   "cell_type": "code",
   "execution_count": 47,
   "metadata": {},
   "outputs": [],
   "source": [
    "recent_plates = np.unique(recent_data.plate_id)"
   ]
  },
  {
   "cell_type": "code",
   "execution_count": null,
   "metadata": {},
   "outputs": [],
   "source": []
  },
  {
   "cell_type": "code",
   "execution_count": 48,
   "metadata": {
    "scrolled": true
   },
   "outputs": [
    {
     "name": "stdout",
     "output_type": "stream",
     "text": [
      "Wall time: 3.79 s\n"
     ]
    },
    {
     "name": "stderr",
     "output_type": "stream",
     "text": [
      "C:\\Users\\djross\\Miniconda3\\lib\\site-packages\\statsmodels\\regression\\mixed_linear_model.py:2237: ConvergenceWarning: The MLE may be on the boundary of the parameter space.\n",
      "  warnings.warn(msg, ConvergenceWarning)\n"
     ]
    }
   ],
   "source": [
    "%%time\n",
    "n_list = []\n",
    "slope_p_list = []\n",
    "time_p_list = []\n",
    "\n",
    "rng = np.random.default_rng(seed=1)\n",
    "\n",
    "with warnings.catch_warnings():\n",
    "    warnings.filterwarnings(\"ignore\")\n",
    "    for n in num_samples:\n",
    "        for i in range(10):\n",
    "            n_list.append(n)\n",
    "            \n",
    "            plate_list = rng.choice(recent_plates, n, replace=False)\n",
    "            \n",
    "            df = recent_data[[x in plate_list for x in recent_data.plate_id]]\n",
    "            #display(df)\n",
    "\n",
    "            md = smf.mixedlm(\n",
    "                f\"max_slope ~ {model_terms_recent}\",\n",
    "                df,\n",
    "                groups=df[\"plate_id\"],\n",
    "            )\n",
    "            fit = md.fit(method=[\"lbfgs\"])\n",
    "            slope_p = fit.pvalues.loc['C(well_category)[T.edge1]']\n",
    "            slope_p_list.append(slope_p)\n",
    "\n",
    "            md = smf.mixedlm(\n",
    "                f\"max_slope_time ~ {model_terms_recent}\",\n",
    "                df,\n",
    "                groups=df[\"plate_id\"],\n",
    "            )\n",
    "            fit = md.fit(method=[\"lbfgs\"])\n",
    "            time_p = fit.pvalues.loc['C(well_category)[T.edge1]']\n",
    "            time_p_list.append(time_p)\n",
    "            \n",
    "df = recent_data\n",
    "n_list.append(len(recent_plates))\n",
    "md = smf.mixedlm(\n",
    "    f\"max_slope ~ {model_terms_recent}\",\n",
    "    df,\n",
    "    groups=df[\"plate_id\"],\n",
    ")\n",
    "fit = md.fit(method=[\"lbfgs\"])\n",
    "fit_recent_slope = fit\n",
    "slope_p = fit.pvalues.loc['C(well_category)[T.edge1]']\n",
    "slope_p_list.append(slope_p)\n",
    "\n",
    "md = smf.mixedlm(\n",
    "    f\"max_slope_time ~ {model_terms_recent}\",\n",
    "    df,\n",
    "    groups=df[\"plate_id\"],\n",
    ")\n",
    "fit = md.fit(method=[\"lbfgs\"])\n",
    "fit_recent_time = fit\n",
    "time_p = fit.pvalues.loc['C(well_category)[T.edge1]']\n",
    "time_p_list.append(time_p)"
   ]
  },
  {
   "cell_type": "code",
   "execution_count": null,
   "metadata": {},
   "outputs": [],
   "source": []
  },
  {
   "cell_type": "code",
   "execution_count": 49,
   "metadata": {},
   "outputs": [
    {
     "data": {
      "image/png": "[encoded data removed]",
      "text/plain": [
       "<Figure size 432x576 with 2 Axes>"
      ]
     },
     "metadata": {},
     "output_type": "display_data"
    }
   ],
   "source": [
    "plt.rcParams[\"figure.figsize\"] = [6, 8]\n",
    "fig, axs = plt.subplots(2, 1)\n",
    "#fig.suptitle('p-values for edge1 category', size=20, y=0.93)\n",
    "\n",
    "x = n_list\n",
    "for ax, y, y_lab in zip(axs, [slope_p_list, time_p_list], ['P-Value, Max Slope', 'P-Value, Max Slope Time']):\n",
    "    ax.plot(x, y, 'o', ms=10, alpha=0.3, color='k');\n",
    "    ax.plot(x[-1], y[-1], '*', ms=18, alpha=1, color='k');\n",
    "    ax.set_yscale('log');\n",
    "    ax.set_xscale('log');\n",
    "    ylim = ax.get_ylim()\n",
    "    #ax.set_ylim(y[-1]/2, 2);\n",
    "    ax.set_ylabel(y_lab, size=18);\n",
    "axs[1].set_xlabel('Number of Plates Measured');\n",
    "axs[1].set_yticks([10**(-x) for x in range(0, 13, 2)])\n",
    "axs[0].set_xticks([])\n",
    "\n",
    "shift = 0.04\n",
    "box = axs[1].get_position()\n",
    "box.y0 = box.y0 + shift\n",
    "box.y1 = box.y1 + shift\n",
    "axs[1].set_position(box)\n",
    "\n",
    "fig.savefig(\"Fig. S5.png\", bbox_inches=\"tight\")"
   ]
  },
  {
   "cell_type": "code",
   "execution_count": null,
   "metadata": {},
   "outputs": [],
   "source": []
  },
  {
   "cell_type": "markdown",
   "metadata": {},
   "source": [
    "Look at median p-value as a function of n:"
   ]
  },
  {
   "cell_type": "code",
   "execution_count": 50,
   "metadata": {},
   "outputs": [
    {
     "name": "stdout",
     "output_type": "stream",
     "text": [
      "1: 0.6696793466856221\n",
      "2: 0.2135688144310886\n",
      "3: 0.17751703244876194\n",
      "4: 0.02498113998309496\n",
      "6: 0.009050982297048323\n",
      "8: 5.5015194256312805e-05\n",
      "10: 1.596589866785235e-06\n",
      "12: 1.761247089034664e-05\n",
      "16: 6.1891692715547686e-09\n",
      "18: 3.4791042719481376e-10\n"
     ]
    }
   ],
   "source": [
    "n_list = np.array(n_list)\n",
    "time_p_list = np.array(time_p_list)\n",
    "for x in np.unique(n_list):\n",
    "    y = time_p_list[n_list==x].copy()\n",
    "    y_median = np.median(y)\n",
    "    print(f'{x}: {y_median}')"
   ]
  },
  {
   "cell_type": "code",
   "execution_count": null,
   "metadata": {},
   "outputs": [],
   "source": []
  },
  {
   "cell_type": "code",
   "execution_count": 51,
   "metadata": {
    "scrolled": true
   },
   "outputs": [
    {
     "name": "stdout",
     "output_type": "stream",
     "text": [
      "Wall time: 4 s\n"
     ]
    },
    {
     "name": "stderr",
     "output_type": "stream",
     "text": [
      "C:\\Users\\djross\\Miniconda3\\lib\\site-packages\\statsmodels\\regression\\mixed_linear_model.py:2237: ConvergenceWarning: The MLE may be on the boundary of the parameter space.\n",
      "  warnings.warn(msg, ConvergenceWarning)\n"
     ]
    }
   ],
   "source": [
    "%%time\n",
    "n_list = []\n",
    "slope_p2_list = []\n",
    "time_p2_list = []\n",
    "\n",
    "rng = np.random.default_rng(seed=1)\n",
    "\n",
    "with warnings.catch_warnings():\n",
    "    warnings.filterwarnings(\"ignore\")\n",
    "    for n in num_samples:\n",
    "        for i in range(10):\n",
    "            n_list.append(n)\n",
    "            \n",
    "            plate_list = rng.choice(recent_plates, n, replace=False)\n",
    "            \n",
    "            df = recent_data[[x in plate_list for x in recent_data.plate_id]]\n",
    "            #display(df)\n",
    "\n",
    "            md = smf.mixedlm(\n",
    "                f\"max_slope ~ {model_terms_recent}\",\n",
    "                df,\n",
    "                groups=df[\"plate_id\"],\n",
    "            )\n",
    "            fit = md.fit(method=[\"lbfgs\"])\n",
    "            slope_p = fit.pvalues.loc['C(well_category)[T.edge2]']\n",
    "            slope_p2_list.append(slope_p)\n",
    "\n",
    "            md = smf.mixedlm(\n",
    "                f\"max_slope_time ~ {model_terms_recent}\",\n",
    "                df,\n",
    "                groups=df[\"plate_id\"],\n",
    "            )\n",
    "            fit = md.fit(method=[\"lbfgs\"])\n",
    "            time_p = fit.pvalues.loc['C(well_category)[T.edge2]']\n",
    "            time_p2_list.append(time_p)\n",
    "            \n",
    "df = recent_data\n",
    "n_list.append(len(recent_plates))\n",
    "md = smf.mixedlm(\n",
    "    f\"max_slope ~ {model_terms_recent}\",\n",
    "    df,\n",
    "    groups=df[\"plate_id\"],\n",
    ")\n",
    "fit = md.fit(method=[\"lbfgs\"])\n",
    "slope_p = fit.pvalues.loc['C(well_category)[T.edge2]']\n",
    "slope_p2_list.append(slope_p)\n",
    "\n",
    "md = smf.mixedlm(\n",
    "    f\"max_slope_time ~ {model_terms_recent}\",\n",
    "    df,\n",
    "    groups=df[\"plate_id\"],\n",
    ")\n",
    "fit = md.fit(method=[\"lbfgs\"])\n",
    "time_p = fit.pvalues.loc['C(well_category)[T.edge2]']\n",
    "time_p2_list.append(time_p)"
   ]
  },
  {
   "cell_type": "code",
   "execution_count": null,
   "metadata": {},
   "outputs": [],
   "source": []
  },
  {
   "cell_type": "code",
   "execution_count": 52,
   "metadata": {},
   "outputs": [
    {
     "data": {
      "image/png": "[encoded data removed]",
      "text/plain": [
       "<Figure size 432x576 with 2 Axes>"
      ]
     },
     "metadata": {},
     "output_type": "display_data"
    }
   ],
   "source": [
    "plt.rcParams[\"figure.figsize\"] = [6, 8]\n",
    "fig, axs = plt.subplots(2, 1)\n",
    "\n",
    "x = n_list\n",
    "for ax, y, y_lab in zip(axs, [slope_p2_list, time_p2_list], ['P-Value, Max Slope', 'P-Value, Max Slope Time']):\n",
    "    ax.plot(x, y, 'o', ms=10, alpha=0.3, color='k');\n",
    "    ax.plot(x[-1], y[-1], '*', ms=18, alpha=1, color='k');\n",
    "    ax.set_yscale('log');\n",
    "    ax.set_xscale('log');\n",
    "    ylim = ax.get_ylim()\n",
    "    #ax.set_ylim(y[-1]/2, 2);\n",
    "    ax.set_ylabel(y_lab, size=18);\n",
    "axs[1].set_xlabel('Number of Plates Measured');\n",
    "axs[1].set_yticks([10**(-x) for x in range(0, 11, 2)])\n",
    "axs[0].set_xticks([])\n",
    "\n",
    "shift = 0.04\n",
    "box = axs[1].get_position()\n",
    "box.y0 = box.y0 + shift\n",
    "box.y1 = box.y1 + shift\n",
    "axs[1].set_position(box)\n",
    "\n",
    "fig.savefig(\"Fig. S6.png\", bbox_inches=\"tight\")"
   ]
  },
  {
   "cell_type": "code",
   "execution_count": null,
   "metadata": {},
   "outputs": [],
   "source": []
  },
  {
   "cell_type": "markdown",
   "metadata": {},
   "source": [
    "Look at median p-value as a function of n:"
   ]
  },
  {
   "cell_type": "code",
   "execution_count": 53,
   "metadata": {},
   "outputs": [
    {
     "name": "stdout",
     "output_type": "stream",
     "text": [
      "1: 0.3932022382233793\n",
      "2: 0.15722657132284013\n",
      "3: 0.3734344389255129\n",
      "4: 0.049574601332169184\n",
      "6: 0.03732624556566856\n",
      "8: 0.0003628186430809279\n",
      "10: 3.470336670358469e-05\n",
      "12: 0.0001306762991199767\n",
      "16: 3.752801646814883e-07\n",
      "18: 7.375332835183078e-08\n"
     ]
    }
   ],
   "source": [
    "n_list = np.array(n_list)\n",
    "time_p2_list = np.array(time_p2_list)\n",
    "for x in np.unique(n_list):\n",
    "    y = time_p2_list[n_list==x].copy()\n",
    "    y_median = np.median(y)\n",
    "    print(f'{x}: {y_median}')"
   ]
  },
  {
   "cell_type": "code",
   "execution_count": null,
   "metadata": {},
   "outputs": [],
   "source": []
  },
  {
   "cell_type": "markdown",
   "metadata": {},
   "source": [
    "Check recent data with IPTG as fixed effect:"
   ]
  },
  {
   "cell_type": "code",
   "execution_count": 54,
   "metadata": {},
   "outputs": [],
   "source": [
    "model_terms_iptg = 'C(IPTG) + plate_1_0 + plate_1_f'"
   ]
  },
  {
   "cell_type": "code",
   "execution_count": 55,
   "metadata": {},
   "outputs": [
    {
     "name": "stderr",
     "output_type": "stream",
     "text": [
      "C:\\Users\\djross\\Miniconda3\\lib\\site-packages\\statsmodels\\regression\\mixed_linear_model.py:2237: ConvergenceWarning: The MLE may be on the boundary of the parameter space.\n",
      "  warnings.warn(msg, ConvergenceWarning)\n"
     ]
    }
   ],
   "source": [
    "md_slope = smf.mixedlm(\n",
    "    f\"max_slope ~ {model_terms_iptg}\",\n",
    "    recent_data,\n",
    "    groups=recent_data[\"plate_id\"],\n",
    ")\n",
    "max_slope_model = md_slope.fit(method=[\"lbfgs\"])"
   ]
  },
  {
   "cell_type": "code",
   "execution_count": 56,
   "metadata": {
    "scrolled": true
   },
   "outputs": [
    {
     "data": {
      "text/html": [
       "<table class=\"simpletable\">\n",
       "<tr>\n",
       "       <td>Model:</td>       <td>MixedLM</td> <td>Dependent Variable:</td> <td>max_slope</td>\n",
       "</tr>\n",
       "<tr>\n",
       "  <td>No. Observations:</td>  <td>1296</td>         <td>Method:</td>         <td>REML</td>   \n",
       "</tr>\n",
       "<tr>\n",
       "     <td>No. Groups:</td>      <td>18</td>          <td>Scale:</td>         <td>0.0004</td>  \n",
       "</tr>\n",
       "<tr>\n",
       "  <td>Min. group size:</td>    <td>72</td>      <td>Log-Likelihood:</td>   <td>3140.7998</td>\n",
       "</tr>\n",
       "<tr>\n",
       "  <td>Max. group size:</td>    <td>72</td>        <td>Converged:</td>         <td>Yes</td>   \n",
       "</tr>\n",
       "<tr>\n",
       "  <td>Mean group size:</td>   <td>72.0</td>            <td></td>               <td></td>     \n",
       "</tr>\n",
       "</table>\n",
       "<table class=\"simpletable\">\n",
       "<tr>\n",
       "          <td></td>          <th>Coef.</th> <th>Std.Err.</th>    <th>z</th>   <th>P>|z|</th> <th>[0.025</th> <th>0.975]</th>\n",
       "</tr>\n",
       "<tr>\n",
       "  <th>Intercept</th>         <td>0.025</td>   <td>0.052</td>   <td>0.481</td> <td>0.631</td> <td>-0.077</td>  <td>0.128</td>\n",
       "</tr>\n",
       "<tr>\n",
       "  <th>C(IPTG)[T.0.002]</th> <td>-0.006</td>   <td>0.003</td>  <td>-2.270</td> <td>0.023</td> <td>-0.011</td> <td>-0.001</td>\n",
       "</tr>\n",
       "<tr>\n",
       "  <th>C(IPTG)[T.0.004]</th> <td>-0.004</td>   <td>0.003</td>  <td>-1.385</td> <td>0.166</td> <td>-0.009</td>  <td>0.002</td>\n",
       "</tr>\n",
       "<tr>\n",
       "  <th>C(IPTG)[T.0.008]</th>  <td>0.002</td>   <td>0.003</td>   <td>0.702</td> <td>0.483</td> <td>-0.003</td>  <td>0.007</td>\n",
       "</tr>\n",
       "<tr>\n",
       "  <th>C(IPTG)[T.0.016]</th> <td>-0.002</td>   <td>0.003</td>  <td>-0.718</td> <td>0.473</td> <td>-0.007</td>  <td>0.003</td>\n",
       "</tr>\n",
       "<tr>\n",
       "  <th>C(IPTG)[T.0.032]</th> <td>-0.003</td>   <td>0.003</td>  <td>-0.953</td> <td>0.341</td> <td>-0.008</td>  <td>0.003</td>\n",
       "</tr>\n",
       "<tr>\n",
       "  <th>C(IPTG)[T.0.064]</th>  <td>0.003</td>   <td>0.003</td>   <td>1.003</td> <td>0.316</td> <td>-0.003</td>  <td>0.008</td>\n",
       "</tr>\n",
       "<tr>\n",
       "  <th>C(IPTG)[T.0.128]</th>  <td>0.004</td>   <td>0.003</td>   <td>1.487</td> <td>0.137</td> <td>-0.001</td>  <td>0.009</td>\n",
       "</tr>\n",
       "<tr>\n",
       "  <th>C(IPTG)[T.0.256]</th>  <td>0.004</td>   <td>0.003</td>   <td>1.399</td> <td>0.162</td> <td>-0.002</td>  <td>0.009</td>\n",
       "</tr>\n",
       "<tr>\n",
       "  <th>C(IPTG)[T.0.512]</th> <td>-0.000</td>   <td>0.003</td>  <td>-0.112</td> <td>0.911</td> <td>-0.006</td>  <td>0.005</td>\n",
       "</tr>\n",
       "<tr>\n",
       "  <th>C(IPTG)[T.1.024]</th> <td>-0.007</td>   <td>0.003</td>  <td>-2.644</td> <td>0.008</td> <td>-0.013</td> <td>-0.002</td>\n",
       "</tr>\n",
       "<tr>\n",
       "  <th>C(IPTG)[T.2.048]</th> <td>-0.017</td>   <td>0.003</td>  <td>-5.995</td> <td>0.000</td> <td>-0.022</td> <td>-0.011</td>\n",
       "</tr>\n",
       "<tr>\n",
       "  <th>plate_1_0</th>         <td>0.007</td>   <td>0.013</td>   <td>0.538</td> <td>0.590</td> <td>-0.018</td>  <td>0.032</td>\n",
       "</tr>\n",
       "<tr>\n",
       "  <th>plate_1_f</th>         <td>0.092</td>   <td>0.020</td>   <td>4.566</td> <td>0.000</td>  <td>0.052</td>  <td>0.131</td>\n",
       "</tr>\n",
       "<tr>\n",
       "  <th>Group Var</th>         <td>0.000</td>   <td>0.007</td>     <td></td>      <td></td>       <td></td>       <td></td>   \n",
       "</tr>\n",
       "</table>"
      ],
      "text/plain": [
       "<class 'statsmodels.iolib.summary2.Summary'>\n",
       "\"\"\"\n",
       "           Mixed Linear Model Regression Results\n",
       "===========================================================\n",
       "Model:              MixedLM  Dependent Variable:  max_slope\n",
       "No. Observations:   1296     Method:              REML     \n",
       "No. Groups:         18       Scale:               0.0004   \n",
       "Min. group size:    72       Log-Likelihood:      3140.7998\n",
       "Max. group size:    72       Converged:           Yes      \n",
       "Mean group size:    72.0                                   \n",
       "-----------------------------------------------------------\n",
       "                 Coef.  Std.Err.   z    P>|z| [0.025 0.975]\n",
       "-----------------------------------------------------------\n",
       "Intercept         0.025    0.052  0.481 0.631 -0.077  0.128\n",
       "C(IPTG)[T.0.002] -0.006    0.003 -2.270 0.023 -0.011 -0.001\n",
       "C(IPTG)[T.0.004] -0.004    0.003 -1.385 0.166 -0.009  0.002\n",
       "C(IPTG)[T.0.008]  0.002    0.003  0.702 0.483 -0.003  0.007\n",
       "C(IPTG)[T.0.016] -0.002    0.003 -0.718 0.473 -0.007  0.003\n",
       "C(IPTG)[T.0.032] -0.003    0.003 -0.953 0.341 -0.008  0.003\n",
       "C(IPTG)[T.0.064]  0.003    0.003  1.003 0.316 -0.003  0.008\n",
       "C(IPTG)[T.0.128]  0.004    0.003  1.487 0.137 -0.001  0.009\n",
       "C(IPTG)[T.0.256]  0.004    0.003  1.399 0.162 -0.002  0.009\n",
       "C(IPTG)[T.0.512] -0.000    0.003 -0.112 0.911 -0.006  0.005\n",
       "C(IPTG)[T.1.024] -0.007    0.003 -2.644 0.008 -0.013 -0.002\n",
       "C(IPTG)[T.2.048] -0.017    0.003 -5.995 0.000 -0.022 -0.011\n",
       "plate_1_0         0.007    0.013  0.538 0.590 -0.018  0.032\n",
       "plate_1_f         0.092    0.020  4.566 0.000  0.052  0.131\n",
       "Group Var         0.000    0.007                           \n",
       "===========================================================\n",
       "\n",
       "\"\"\""
      ]
     },
     "execution_count": 56,
     "metadata": {},
     "output_type": "execute_result"
    }
   ],
   "source": [
    "max_slope_model.summary()"
   ]
  },
  {
   "cell_type": "code",
   "execution_count": 57,
   "metadata": {},
   "outputs": [],
   "source": [
    "md_time = smf.mixedlm(\n",
    "    f\"max_slope_time ~ {model_terms_iptg}\",\n",
    "    recent_data,\n",
    "    groups=recent_data[\"plate_id\"],\n",
    ")\n",
    "max_slope_time_model = md_time.fit(method=[\"lbfgs\"])"
   ]
  },
  {
   "cell_type": "code",
   "execution_count": 58,
   "metadata": {
    "scrolled": true
   },
   "outputs": [
    {
     "data": {
      "text/html": [
       "<table class=\"simpletable\">\n",
       "<tr>\n",
       "       <td>Model:</td>       <td>MixedLM</td> <td>Dependent Variable:</td> <td>max_slope_time</td>\n",
       "</tr>\n",
       "<tr>\n",
       "  <td>No. Observations:</td>  <td>1296</td>         <td>Method:</td>            <td>REML</td>     \n",
       "</tr>\n",
       "<tr>\n",
       "     <td>No. Groups:</td>      <td>18</td>          <td>Scale:</td>            <td>0.0065</td>    \n",
       "</tr>\n",
       "<tr>\n",
       "  <td>Min. group size:</td>    <td>72</td>      <td>Log-Likelihood:</td>      <td>1338.4625</td>  \n",
       "</tr>\n",
       "<tr>\n",
       "  <td>Max. group size:</td>    <td>72</td>        <td>Converged:</td>            <td>Yes</td>     \n",
       "</tr>\n",
       "<tr>\n",
       "  <td>Mean group size:</td>   <td>72.0</td>            <td></td>                  <td></td>       \n",
       "</tr>\n",
       "</table>\n",
       "<table class=\"simpletable\">\n",
       "<tr>\n",
       "          <td></td>          <th>Coef.</th> <th>Std.Err.</th>    <th>z</th>   <th>P>|z|</th> <th>[0.025</th> <th>0.975]</th>\n",
       "</tr>\n",
       "<tr>\n",
       "  <th>Intercept</th>         <td>2.948</td>   <td>0.215</td>  <td>13.706</td> <td>0.000</td>  <td>2.526</td>  <td>3.369</td>\n",
       "</tr>\n",
       "<tr>\n",
       "  <th>C(IPTG)[T.0.002]</th> <td>-0.001</td>   <td>0.011</td>  <td>-0.122</td> <td>0.903</td> <td>-0.023</td>  <td>0.020</td>\n",
       "</tr>\n",
       "<tr>\n",
       "  <th>C(IPTG)[T.0.004]</th> <td>-0.016</td>   <td>0.011</td>  <td>-1.488</td> <td>0.137</td> <td>-0.038</td>  <td>0.005</td>\n",
       "</tr>\n",
       "<tr>\n",
       "  <th>C(IPTG)[T.0.008]</th> <td>-0.051</td>   <td>0.011</td>  <td>-4.652</td> <td>0.000</td> <td>-0.073</td> <td>-0.030</td>\n",
       "</tr>\n",
       "<tr>\n",
       "  <th>C(IPTG)[T.0.016]</th> <td>-0.090</td>   <td>0.011</td>  <td>-8.138</td> <td>0.000</td> <td>-0.111</td> <td>-0.068</td>\n",
       "</tr>\n",
       "<tr>\n",
       "  <th>C(IPTG)[T.0.032]</th> <td>-0.082</td>   <td>0.011</td>  <td>-7.394</td> <td>0.000</td> <td>-0.103</td> <td>-0.060</td>\n",
       "</tr>\n",
       "<tr>\n",
       "  <th>C(IPTG)[T.0.064]</th> <td>-0.083</td>   <td>0.011</td>  <td>-7.523</td> <td>0.000</td> <td>-0.105</td> <td>-0.061</td>\n",
       "</tr>\n",
       "<tr>\n",
       "  <th>C(IPTG)[T.0.128]</th> <td>-0.062</td>   <td>0.011</td>  <td>-5.646</td> <td>0.000</td> <td>-0.084</td> <td>-0.041</td>\n",
       "</tr>\n",
       "<tr>\n",
       "  <th>C(IPTG)[T.0.256]</th> <td>-0.052</td>   <td>0.011</td>  <td>-4.641</td> <td>0.000</td> <td>-0.074</td> <td>-0.030</td>\n",
       "</tr>\n",
       "<tr>\n",
       "  <th>C(IPTG)[T.0.512]</th> <td>-0.010</td>   <td>0.011</td>  <td>-0.877</td> <td>0.380</td> <td>-0.032</td>  <td>0.012</td>\n",
       "</tr>\n",
       "<tr>\n",
       "  <th>C(IPTG)[T.1.024]</th>  <td>0.016</td>   <td>0.011</td>   <td>1.358</td> <td>0.174</td> <td>-0.007</td>  <td>0.038</td>\n",
       "</tr>\n",
       "<tr>\n",
       "  <th>C(IPTG)[T.2.048]</th> <td>-0.010</td>   <td>0.011</td>  <td>-0.868</td> <td>0.386</td> <td>-0.032</td>  <td>0.012</td>\n",
       "</tr>\n",
       "<tr>\n",
       "  <th>plate_1_0</th>        <td>-0.248</td>   <td>0.052</td>  <td>-4.803</td> <td>0.000</td> <td>-0.349</td> <td>-0.147</td>\n",
       "</tr>\n",
       "<tr>\n",
       "  <th>plate_1_f</th>        <td>-0.086</td>   <td>0.082</td>  <td>-1.051</td> <td>0.293</td> <td>-0.247</td>  <td>0.075</td>\n",
       "</tr>\n",
       "<tr>\n",
       "  <th>Group Var</th>         <td>0.020</td>   <td>0.085</td>     <td></td>      <td></td>       <td></td>       <td></td>   \n",
       "</tr>\n",
       "</table>"
      ],
      "text/plain": [
       "<class 'statsmodels.iolib.summary2.Summary'>\n",
       "\"\"\"\n",
       "           Mixed Linear Model Regression Results\n",
       "============================================================\n",
       "Model:            MixedLM Dependent Variable: max_slope_time\n",
       "No. Observations: 1296    Method:             REML          \n",
       "No. Groups:       18      Scale:              0.0065        \n",
       "Min. group size:  72      Log-Likelihood:     1338.4625     \n",
       "Max. group size:  72      Converged:          Yes           \n",
       "Mean group size:  72.0                                      \n",
       "------------------------------------------------------------\n",
       "                  Coef.  Std.Err.   z    P>|z| [0.025 0.975]\n",
       "------------------------------------------------------------\n",
       "Intercept          2.948    0.215 13.706 0.000  2.526  3.369\n",
       "C(IPTG)[T.0.002]  -0.001    0.011 -0.122 0.903 -0.023  0.020\n",
       "C(IPTG)[T.0.004]  -0.016    0.011 -1.488 0.137 -0.038  0.005\n",
       "C(IPTG)[T.0.008]  -0.051    0.011 -4.652 0.000 -0.073 -0.030\n",
       "C(IPTG)[T.0.016]  -0.090    0.011 -8.138 0.000 -0.111 -0.068\n",
       "C(IPTG)[T.0.032]  -0.082    0.011 -7.394 0.000 -0.103 -0.060\n",
       "C(IPTG)[T.0.064]  -0.083    0.011 -7.523 0.000 -0.105 -0.061\n",
       "C(IPTG)[T.0.128]  -0.062    0.011 -5.646 0.000 -0.084 -0.041\n",
       "C(IPTG)[T.0.256]  -0.052    0.011 -4.641 0.000 -0.074 -0.030\n",
       "C(IPTG)[T.0.512]  -0.010    0.011 -0.877 0.380 -0.032  0.012\n",
       "C(IPTG)[T.1.024]   0.016    0.011  1.358 0.174 -0.007  0.038\n",
       "C(IPTG)[T.2.048]  -0.010    0.011 -0.868 0.386 -0.032  0.012\n",
       "plate_1_0         -0.248    0.052 -4.803 0.000 -0.349 -0.147\n",
       "plate_1_f         -0.086    0.082 -1.051 0.293 -0.247  0.075\n",
       "Group Var          0.020    0.085                           \n",
       "============================================================\n",
       "\n",
       "\"\"\""
      ]
     },
     "execution_count": 58,
     "metadata": {},
     "output_type": "execute_result"
    }
   ],
   "source": [
    "max_slope_time_model.summary()"
   ]
  },
  {
   "cell_type": "code",
   "execution_count": 59,
   "metadata": {
    "scrolled": true
   },
   "outputs": [],
   "source": [
    "max_slope_time_frame = max_slope_time_model.conf_int().copy()\n",
    "max_slope_time_frame.rename(columns={0:'q_025', 1:'q_975'}, inplace=True)\n",
    "max_slope_time_frame['mean'] = max_slope_time_model.fe_params\n",
    "df = max_slope_time_model.conf_int(alpha=0.5)\n",
    "max_slope_time_frame['q_25'] = df[0]\n",
    "max_slope_time_frame['q_75'] = df[1]\n",
    "#max_slope_time_frame"
   ]
  },
  {
   "cell_type": "code",
   "execution_count": null,
   "metadata": {
    "scrolled": true
   },
   "outputs": [],
   "source": []
  },
  {
   "cell_type": "code",
   "execution_count": 60,
   "metadata": {
    "scrolled": true
   },
   "outputs": [],
   "source": [
    "max_slope_frame = max_slope_model.conf_int().copy()\n",
    "max_slope_frame.rename(columns={0:'q_025', 1:'q_975'}, inplace=True)\n",
    "max_slope_frame['mean'] = max_slope_model.fe_params\n",
    "df = max_slope_model.conf_int(alpha=0.5)\n",
    "max_slope_frame['q_25'] = df[0]\n",
    "max_slope_frame['q_75'] = df[1]\n",
    "#max_slope_frame"
   ]
  },
  {
   "cell_type": "code",
   "execution_count": null,
   "metadata": {},
   "outputs": [],
   "source": []
  },
  {
   "cell_type": "code",
   "execution_count": 61,
   "metadata": {},
   "outputs": [
    {
     "data": {
      "image/png": "[encoded data removed]",
      "text/plain": [
       "<Figure size 864x576 with 2 Axes>"
      ]
     },
     "metadata": {},
     "output_type": "display_data"
    }
   ],
   "source": [
    "plt.rcParams[\"figure.figsize\"] = [12, 8]\n",
    "fig, axs = plt.subplots(2, 1)\n",
    "\n",
    "for ax, df, factor in zip(axs, [max_slope_frame, max_slope_time_frame], [recent_data.max_slope.mean(), recent_data.max_slope_time.mean()]):\n",
    "    df = df[['IPTG' in s for s in df.index]]\n",
    "    x = [1000*float(s[s.find('[T.')+3: s.rfind(']')]) for s in df.index]\n",
    "    y = df['mean'] #/factor\n",
    "    yerr = np.array([df['mean']-df.q_025, df.q_975-df['mean']]) #/factor\n",
    "    ax.errorbar(x, y, yerr, fmt='o', color='k', ms=10, fillstyle='none');\n",
    "    ax.set_xscale('log')"
   ]
  },
  {
   "cell_type": "markdown",
   "metadata": {},
   "source": [
    "Since effects of IPTG look ~symetric (right to left), it's probably from well_category instead."
   ]
  },
  {
   "cell_type": "code",
   "execution_count": null,
   "metadata": {},
   "outputs": [],
   "source": []
  }
 ],
 "metadata": {
  "kernelspec": {
   "display_name": "Python 3 (ipykernel)",
   "language": "python",
   "name": "python3"
  },
  "language_info": {
   "codemirror_mode": {
    "name": "ipython",
    "version": 3
   },
   "file_extension": ".py",
   "mimetype": "text/x-python",
   "name": "python",
   "nbconvert_exporter": "python",
   "pygments_lexer": "ipython3",
   "version": "3.9.5"
  }
 },
 "nbformat": 4,
 "nbformat_minor": 2
}
